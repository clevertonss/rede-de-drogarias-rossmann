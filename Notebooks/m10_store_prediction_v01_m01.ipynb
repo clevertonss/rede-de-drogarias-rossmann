{
 "cells": [
  {
   "cell_type": "markdown",
   "id": "d81442b6",
   "metadata": {
    "ExecuteTime": {
     "end_time": "2022-02-26T00:49:12.857199Z",
     "start_time": "2022-02-26T00:49:12.841028Z"
    },
    "heading_collapsed": true
   },
   "source": [
    "# Bliblioteca"
   ]
  },
  {
   "cell_type": "code",
   "execution_count": 130,
   "id": "642829a3",
   "metadata": {
    "ExecuteTime": {
     "end_time": "2022-03-01T16:20:36.964297Z",
     "start_time": "2022-03-01T16:20:36.941278Z"
    },
    "hidden": true
   },
   "outputs": [],
   "source": [
    "import datetime\n",
    "import inflection\n",
    "import math\n",
    "import pickle\n",
    "import random\n",
    "import warnings\n",
    "\n",
    "import pandas   as pd\n",
    "import numpy    as np\n",
    "import seaborn  as sns\n",
    "import xgboost  as xgb \n",
    "\n",
    "from matplotlib            import pyplot as plt\n",
    "\n",
    "from scipy                 import stats\n",
    "from IPython.core.display  import HTML\n",
    "from matplotlib.gridspec   import GridSpec\n",
    "from tabulate              import tabulate\n",
    "from IPython.display       import Image\n",
    "\n",
    "from sklearn.metrics       import mean_absolute_error, mean_squared_error\n",
    "from sklearn.ensemble      import RandomForestRegressor\n",
    "from sklearn.linear_model  import LinearRegression, Lasso\n",
    "from sklearn.preprocessing import RobustScaler, MinMaxScaler, LabelEncoder\n",
    "\n",
    "warnings.filterwarnings( 'ignore' )"
   ]
  },
  {
   "cell_type": "markdown",
   "id": "efa30778",
   "metadata": {
    "ExecuteTime": {
     "end_time": "2022-02-28T21:09:36.482555Z",
     "start_time": "2022-02-28T21:09:36.470890Z"
    },
    "heading_collapsed": true,
    "hidden": true
   },
   "source": [
    "## 0.1 Helper functions"
   ]
  },
  {
   "cell_type": "code",
   "execution_count": 109,
   "id": "395be167",
   "metadata": {
    "ExecuteTime": {
     "end_time": "2022-03-01T14:43:58.344226Z",
     "start_time": "2022-03-01T14:43:58.317064Z"
    },
    "hidden": true
   },
   "outputs": [],
   "source": [
    "def cross_validation( x_training, kfold, model_name, model, verbose=False ):\n",
    "    mae_list = []\n",
    "    mape_list = []\n",
    "    rmse_list = []\n",
    "    for k in reversed( range( 1, kfold+1 ) ):\n",
    "        if verbose:\n",
    "            print( '\\nKFold Number: {}'.format( k ) )\n",
    "        # start and end date for validation \n",
    "        validation_start_date = x_training['date'].max() - datetime.timedelta( days=k*6*7)\n",
    "        validation_end_date = x_training['date'].max() - datetime.timedelta( days=(k-1)*6*7)\n",
    "\n",
    "        # filtering dataset\n",
    "        training = x_training[x_training['date'] < validation_start_date]\n",
    "        validation = x_training[(x_training['date'] >= validation_start_date) & (x_training['date'] <= validation_end_date)]\n",
    "\n",
    "        # training and validation dataset\n",
    "        # training\n",
    "        xtraining = training.drop( ['date', 'sales'], axis=1 ) \n",
    "        ytraining = training['sales']\n",
    "\n",
    "        # validation\n",
    "        xvalidation = validation.drop( ['date', 'sales'], axis=1 )\n",
    "        yvalidation = validation['sales']\n",
    "\n",
    "        # model\n",
    "        m = model.fit( xtraining, ytraining )\n",
    "\n",
    "        # prediction\n",
    "        yhat = m.predict( xvalidation )\n",
    "\n",
    "        # performance\n",
    "        m_result = ml_error( model_name, np.expm1( yvalidation ), np.expm1( yhat ) )\n",
    "\n",
    "        # store performance of each kfold iteration\n",
    "        mae_list.append(  m_result['MAE'] )\n",
    "        mape_list.append( m_result['MAPE'] )\n",
    "        rmse_list.append( m_result['RMSE'] )\n",
    "\n",
    "    return pd.DataFrame( {'Model Name': model_name,\n",
    "                          'MAE CV': np.round( np.mean( mae_list ), 2 ).astype( str ) + ' +/- ' + np.round( np.std( mae_list ), 2 ).astype( str ),\n",
    "                          'MAPE CV': np.round( np.mean( mape_list ), 2 ).astype( str ) + ' +/- ' + np.round( np.std( mape_list ), 2 ).astype( str ),\n",
    "                          'RMSE CV': np.round( np.mean( rmse_list ), 2 ).astype( str ) + ' +/- ' + np.round( np.std( rmse_list ), 2 ).astype( str ) }, index=[0] )\n",
    "\n",
    "\n",
    "def mean_percentage_error( y, yhat ):\n",
    "    return np.mean( ( y - yhat ) / y )\n",
    "     \n",
    "    \n",
    "def mean_absolute_percentage_error( y, yhat ):\n",
    "    return np.mean( np.abs( ( y - yhat ) / y ) )\n",
    "\n",
    "    \n",
    "def ml_error( model_name, y, yhat ):\n",
    "    mae = mean_absolute_error( y, yhat )\n",
    "    mape = mean_absolute_percentage_error( y, yhat )\n",
    "    rmse = np.sqrt( mean_squared_error( y, yhat ) )\n",
    "    \n",
    "    return pd.DataFrame( { 'Model Name': model_name, \n",
    "                           'MAE': mae, \n",
    "                           'MAPE': mape,\n",
    "                           'RMSE': rmse }, index=[0] )\n",
    "\n",
    "def cramer_v( x, y ):\n",
    "    cm = pd.crosstab( x, y ).as_matrix()\n",
    "    n = cm.sum()\n",
    "    r, k = cm.shape\n",
    "    \n",
    "    chi2 = ss.chi2_contingency( cm )[0]\n",
    "    chi2corr = max( 0, chi2 - (k-1)*(r-1)/(n-1) )\n",
    "    \n",
    "    kcorr = k - (k-1)**2/(n-1)\n",
    "    rcorr = r - (r-1)**2/(n-1)\n",
    "    \n",
    "    return np.sqrt( (chi2corr/n) / ( min( kcorr-1, rcorr-1 ) ) )\n",
    "\n",
    "sns.set(rc={'figure.figsize':(25,12)})\n"
   ]
  },
  {
   "cell_type": "markdown",
   "id": "88ba32b3",
   "metadata": {
    "ExecuteTime": {
     "end_time": "2022-02-27T14:01:23.583276Z",
     "start_time": "2022-02-27T14:01:23.580536Z"
    },
    "hidden": true
   },
   "source": [
    "## 0.2 loading data"
   ]
  },
  {
   "cell_type": "code",
   "execution_count": 152,
   "id": "920b586d",
   "metadata": {
    "ExecuteTime": {
     "end_time": "2022-03-01T16:58:33.601488Z",
     "start_time": "2022-03-01T16:57:37.241086Z"
    },
    "hidden": true
   },
   "outputs": [],
   "source": [
    "# Imports data\n",
    "df_sales_raw = pd.read_csv( 'datasets/train.csv', low_memory=False ) # Data sets de treino\n",
    "df_store_raw = pd.read_csv( 'datasets/store.csv', low_memory=False ) # Data sets de lojas\n",
    "\n",
    "# Merge\n",
    "df_raw = pd.merge(df_sales_train, df_sales_store, how='left', on='Store' ) # Merge da esquerda para direita"
   ]
  },
  {
   "cell_type": "raw",
   "id": "427b0894",
   "metadata": {
    "ExecuteTime": {
     "end_time": "2022-03-01T12:36:45.745642Z",
     "start_time": "2022-03-01T12:36:45.737338Z"
    },
    "hidden": true
   },
   "source": [
    "    'Store' - Lojas ativas\n",
    "    'DayOfWeek' - Dias da semana\n",
    "    'Date' - Dias\n",
    "    'Sales' - Vendas\n",
    "    'Customers' - Clientes por loja\n",
    "    'Open' - Loja esta aberta ou fechada\n",
    "    'Promo' - Lojas com promocoes ativas\n",
    "    'StateHoliday' - Feriados nacionais\n",
    "    'SchoolHoliday' - Feriados escolares (Ferias escolares)\n",
    "    'StoreType' - Tipo de loja\n",
    "    'Assortment' - Sortimento da loja\n",
    "    'CompetitionDistance' - Distancia das lojas - competidoras\n",
    "    'CompetitionOpenSinceMonth', - Loja com promocao desde - Mensal\n",
    "    'CompetitionOpenSinceYear'  - lojas com promocao desde - Anual\n",
    "    'Promo2' - Lojas com continuacao da PROMO\n",
    "    'Promo2SinceWeek', - Data da promo2 semanal\n",
    "    'Promo2SinceYear' - Data da Promo2 Anual\n",
    "    'PromoInterval - Intervalo de promocoes\n",
    "\n",
    "\n",
    "\n",
    "\n",
    "Você recebe dados históricos de vendas de 1.115 lojas Rossmann. A tarefa é prever a coluna \"Vendas\" para o conjunto de teste. Observe que algumas lojas no conjunto de dados foram temporariamente fechadas para reforma.\n",
    "\n",
    "arquivos\n",
    "train.csv - dados históricos, incluindo vendas\n",
    "test.csv - dados históricos excluindo vendas\n",
    "sample_submission.csv - um arquivo de envio de amostra no formato correto\n",
    "store.csv - informações complementares sobre as lojas\n",
    "Campos de dados\n",
    "A maioria dos campos são autoexplicativos. A seguir estão as descrições para aqueles que não são.\n",
    "\n"
   ]
  },
  {
   "cell_type": "markdown",
   "id": "62ffcd32",
   "metadata": {},
   "source": [
    "# 1.0. PASSO 1 - Descrição dos dados"
   ]
  },
  {
   "cell_type": "code",
   "execution_count": 153,
   "id": "c8ff43b9",
   "metadata": {
    "ExecuteTime": {
     "end_time": "2022-03-01T16:59:12.013166Z",
     "start_time": "2022-03-01T16:58:43.949428Z"
    }
   },
   "outputs": [],
   "source": [
    "df1 = df_raw.copy() # Copia dos dados de df_raw para df1"
   ]
  },
  {
   "cell_type": "markdown",
   "id": "6aa64b16",
   "metadata": {
    "heading_collapsed": true
   },
   "source": [
    "## 1.1. Renomeando as colunas"
   ]
  },
  {
   "cell_type": "code",
   "execution_count": 150,
   "id": "4388fc77",
   "metadata": {
    "ExecuteTime": {
     "end_time": "2022-03-01T16:50:40.570187Z",
     "start_time": "2022-03-01T16:50:40.550367Z"
    },
    "hidden": true
   },
   "outputs": [
    {
     "data": {
      "text/plain": [
       "Index(['Store', 'DayOfWeek', 'Date', 'Sales', 'Customers', 'Open', 'Promo',\n",
       "       'StateHoliday', 'SchoolHoliday', 'StoreType', 'Assortment',\n",
       "       'CompetitionDistance', 'CompetitionOpenSinceMonth',\n",
       "       'CompetitionOpenSinceYear', 'Promo2', 'Promo2SinceWeek',\n",
       "       'Promo2SinceYear', 'PromoInterval'],\n",
       "      dtype='object')"
      ]
     },
     "execution_count": 150,
     "metadata": {},
     "output_type": "execute_result"
    }
   ],
   "source": [
    "df1.columns"
   ]
  },
  {
   "cell_type": "code",
   "execution_count": 7,
   "id": "88362b55",
   "metadata": {
    "ExecuteTime": {
     "end_time": "2022-03-01T12:36:46.360301Z",
     "start_time": "2022-03-01T12:36:46.267317Z"
    },
    "hidden": true
   },
   "outputs": [],
   "source": [
    "cols_old = ['Store', 'DayOfWeek', 'Date', 'Sales', 'Customers', 'Open', 'Promo',\n",
    "       'StateHoliday', 'SchoolHoliday', 'StoreType', 'Assortment',\n",
    "       'CompetitionDistance', 'CompetitionOpenSinceMonth',\n",
    "       'CompetitionOpenSinceYear', 'Promo2', 'Promo2SinceWeek',\n",
    "       'Promo2SinceYear', 'PromoInterval']"
   ]
  },
  {
   "cell_type": "code",
   "execution_count": 8,
   "id": "9d10d023",
   "metadata": {
    "ExecuteTime": {
     "end_time": "2022-03-01T12:36:46.452596Z",
     "start_time": "2022-03-01T12:36:46.361804Z"
    },
    "hidden": true
   },
   "outputs": [],
   "source": [
    "snakecase = lambda x: inflection.underscore( x ) # inflection converte a letra maiscula em minuscula, acrescentando '_' entre os intervalos\n",
    "cols_new = list( map( snakecase, cols_old ) )\n",
    "\n",
    "# rename\n",
    "df1.columns = cols_new"
   ]
  },
  {
   "cell_type": "markdown",
   "id": "26b75ddd",
   "metadata": {
    "heading_collapsed": true
   },
   "source": [
    "## 1.2. Dimensão dos dados"
   ]
  },
  {
   "cell_type": "code",
   "execution_count": 9,
   "id": "3928f6b1",
   "metadata": {
    "ExecuteTime": {
     "end_time": "2022-03-01T12:36:47.126932Z",
     "start_time": "2022-03-01T12:36:47.122140Z"
    },
    "hidden": true
   },
   "outputs": [
    {
     "name": "stdout",
     "output_type": "stream",
     "text": [
      "Number of Rows: 1017209\n",
      "Number of cols: 18\n"
     ]
    }
   ],
   "source": [
    "print( 'Number of Rows: {}'.format( df1.shape[0] ) ) #Mostra o numero de linhas\n",
    "print( 'Number of cols: {}'.format( df1.shape[1] ) ) #Mostra o numero de colunas"
   ]
  },
  {
   "cell_type": "markdown",
   "id": "d5569213",
   "metadata": {
    "heading_collapsed": true
   },
   "source": [
    "## 1.3. Tipo dos dados"
   ]
  },
  {
   "cell_type": "code",
   "execution_count": 10,
   "id": "fdcae9dd",
   "metadata": {
    "ExecuteTime": {
     "end_time": "2022-03-01T12:36:49.061113Z",
     "start_time": "2022-03-01T12:36:49.051027Z"
    },
    "hidden": true,
    "scrolled": true
   },
   "outputs": [
    {
     "data": {
      "text/plain": [
       "store                             int64\n",
       "day_of_week                       int64\n",
       "date                             object\n",
       "sales                             int64\n",
       "customers                         int64\n",
       "open                              int64\n",
       "promo                             int64\n",
       "state_holiday                    object\n",
       "school_holiday                    int64\n",
       "store_type                       object\n",
       "assortment                       object\n",
       "competition_distance            float64\n",
       "competition_open_since_month    float64\n",
       "competition_open_since_year     float64\n",
       "promo2                            int64\n",
       "promo2_since_week               float64\n",
       "promo2_since_year               float64\n",
       "promo_interval                   object\n",
       "dtype: object"
      ]
     },
     "execution_count": 10,
     "metadata": {},
     "output_type": "execute_result"
    }
   ],
   "source": [
    "df1.dtypes #Visualizando o tipo das colunas"
   ]
  },
  {
   "cell_type": "code",
   "execution_count": 11,
   "id": "0cf73b7e",
   "metadata": {
    "ExecuteTime": {
     "end_time": "2022-03-01T12:36:49.692902Z",
     "start_time": "2022-03-01T12:36:49.529743Z"
    },
    "hidden": true
   },
   "outputs": [
    {
     "data": {
      "text/plain": [
       "store                                    int64\n",
       "day_of_week                              int64\n",
       "date                            datetime64[ns]\n",
       "sales                                    int64\n",
       "customers                                int64\n",
       "open                                     int64\n",
       "promo                                    int64\n",
       "state_holiday                           object\n",
       "school_holiday                           int64\n",
       "store_type                              object\n",
       "assortment                              object\n",
       "competition_distance                   float64\n",
       "competition_open_since_month           float64\n",
       "competition_open_since_year            float64\n",
       "promo2                                   int64\n",
       "promo2_since_week                      float64\n",
       "promo2_since_year                      float64\n",
       "promo_interval                          object\n",
       "dtype: object"
      ]
     },
     "execution_count": 11,
     "metadata": {},
     "output_type": "execute_result"
    }
   ],
   "source": [
    "df1['date'] = pd.to_datetime( df1['date'] ) # Transformacao do tipo da coluna - No caso \"Date\"\n",
    "df1.dtypes"
   ]
  },
  {
   "cell_type": "markdown",
   "id": "a3024c4c",
   "metadata": {
    "ExecuteTime": {
     "end_time": "2022-02-27T14:43:17.590446Z",
     "start_time": "2022-02-27T14:43:17.588163Z"
    },
    "heading_collapsed": true
   },
   "source": [
    "## 1.4 Check NA"
   ]
  },
  {
   "cell_type": "code",
   "execution_count": 12,
   "id": "a0ab13f9",
   "metadata": {
    "ExecuteTime": {
     "end_time": "2022-03-01T12:36:51.819182Z",
     "start_time": "2022-03-01T12:36:51.102145Z"
    },
    "hidden": true
   },
   "outputs": [
    {
     "data": {
      "text/plain": [
       "store                                0\n",
       "day_of_week                          0\n",
       "date                                 0\n",
       "sales                                0\n",
       "customers                            0\n",
       "open                                 0\n",
       "promo                                0\n",
       "state_holiday                        0\n",
       "school_holiday                       0\n",
       "store_type                           0\n",
       "assortment                           0\n",
       "competition_distance              2642\n",
       "competition_open_since_month    323348\n",
       "competition_open_since_year     323348\n",
       "promo2                               0\n",
       "promo2_since_week               508031\n",
       "promo2_since_year               508031\n",
       "promo_interval                  508031\n",
       "dtype: int64"
      ]
     },
     "execution_count": 12,
     "metadata": {},
     "output_type": "execute_result"
    }
   ],
   "source": [
    "df1.isna().sum() #check isna"
   ]
  },
  {
   "cell_type": "code",
   "execution_count": 13,
   "id": "9b90e0ef",
   "metadata": {
    "ExecuteTime": {
     "end_time": "2022-03-01T12:36:51.842096Z",
     "start_time": "2022-03-01T12:36:51.826524Z"
    },
    "hidden": true
   },
   "outputs": [
    {
     "data": {
      "text/plain": [
       "75860.0"
      ]
     },
     "execution_count": 13,
     "metadata": {},
     "output_type": "execute_result"
    }
   ],
   "source": [
    "df1['competition_distance'].max() #Verifcando qual é a distância maxima de uma loja para outra"
   ]
  },
  {
   "cell_type": "markdown",
   "id": "bd264e6d-4f74-4ee0-a3dc-ede00a5a88d7",
   "metadata": {
    "ExecuteTime": {
     "end_time": "2022-02-27T14:45:53.265987Z",
     "start_time": "2022-02-27T14:45:53.263433Z"
    },
    "heading_collapsed": true
   },
   "source": [
    "## 1.5. Fillout NA"
   ]
  },
  {
   "cell_type": "code",
   "execution_count": 14,
   "id": "e2c2209b",
   "metadata": {
    "ExecuteTime": {
     "end_time": "2022-03-01T12:38:37.257129Z",
     "start_time": "2022-03-01T12:36:53.034380Z"
    },
    "hidden": true
   },
   "outputs": [],
   "source": [
    "# Removendo NA usando lambda\n",
    "\n",
    "# competition_distance\n",
    "df1[ 'competition_distance' ] = df1[ 'competition_distance' ].apply( lambda x: 200000.0 if math.isnan( x ) else x )\n",
    "# competition_open_since_month\n",
    "df1['competition_open_since_month'] = df1.apply( lambda x: x['date'].month if math.isnan( x['competition_open_since_month']) else x['competition_open_since_month'], axis=1 )\n",
    "# competition_open_since_year\n",
    "df1['competition_open_since_year'] = df1.apply( lambda x: x['date'].year if math.isnan( x['competition_open_since_year']) else x['competition_open_since_year'], axis=1 )\n",
    "# promo2_since_week             \n",
    "df1['promo2_since_week'] = df1.apply( lambda x: x['date'].week if math.isnan( x['promo2_since_week']) else x['promo2_since_week'], axis=1 )\n",
    "# promo2_since_year         \n",
    "df1['promo2_since_year'] = df1.apply( lambda x: x['date'].year if math.isnan( x['promo2_since_year']) else x['promo2_since_year'], axis=1 )\n",
    "\n",
    "# Criando uma Coluna Mes, e substituindo NA por 0\n",
    "month_map = {1: 'Jan', 2: 'Feb', 3: 'Mar', 4: 'Apr', 5: 'May', 6: 'Jun', 7: 'Jul', 8: 'Aug', 9: 'Sep', 10: 'Oct', 11: 'Nov', 12: 'Dez'}\n",
    "\n",
    "df1['promo_interval'].fillna(0, inplace=True ) #Foi substituido NA por 0, nao retornando nenhum valor\n",
    "\n",
    "df1['month_map'] = df1['date'].dt.month.map( month_map ) #Transforma em data / mes / depois substitui os numeros por letras\n",
    "\n",
    "df1['is_promo'] = df1[['promo_interval', 'month_map']].apply(lambda x: 0 if x['promo_interval'] == 0 else 1 if x['month_map'] in x['promo_interval'].split(',') else 0, axis=1 )\n"
   ]
  },
  {
   "cell_type": "markdown",
   "id": "3ff73fbe",
   "metadata": {
    "ExecuteTime": {
     "end_time": "2022-02-27T14:45:57.532313Z",
     "start_time": "2022-02-27T14:45:57.525677Z"
    },
    "heading_collapsed": true
   },
   "source": [
    "## 1.6. Tipos de alteração"
   ]
  },
  {
   "cell_type": "code",
   "execution_count": 15,
   "id": "51b7db69",
   "metadata": {
    "ExecuteTime": {
     "end_time": "2022-03-01T12:38:37.305456Z",
     "start_time": "2022-03-01T12:38:37.259098Z"
    },
    "hidden": true
   },
   "outputs": [],
   "source": [
    "# Modificando o tipo dos dados por colunas\n",
    "df1['competition_open_since_month'] = df1['competition_open_since_month'].astype(int)\n",
    "df1['competition_open_since_year' ] = df1['competition_open_since_year' ].astype(int)\n",
    "df1['promo2_since_week']            = df1['promo2_since_week']           .astype(int)\n",
    "df1['promo2_since_year']            = df1['promo2_since_year']           .astype(int)\n"
   ]
  },
  {
   "cell_type": "markdown",
   "id": "deef8a01",
   "metadata": {
    "heading_collapsed": true
   },
   "source": [
    "## 1.7. Descrições estaticas "
   ]
  },
  {
   "cell_type": "code",
   "execution_count": 16,
   "id": "6945b16a",
   "metadata": {
    "ExecuteTime": {
     "end_time": "2022-03-01T12:38:37.667740Z",
     "start_time": "2022-03-01T12:38:37.307963Z"
    },
    "hidden": true
   },
   "outputs": [],
   "source": [
    "### Numerical attributes / selecao de atributos\n",
    "num_attributes = df1.select_dtypes( include=['int64', 'float64'] )\n",
    "cat_attributes = df1.select_dtypes( exclude=['int64', 'float64', 'datetime64[ns]'] )"
   ]
  },
  {
   "cell_type": "code",
   "execution_count": 17,
   "id": "bcdd1d34",
   "metadata": {
    "ExecuteTime": {
     "end_time": "2022-03-01T12:38:41.974708Z",
     "start_time": "2022-03-01T12:38:37.672912Z"
    },
    "hidden": true
   },
   "outputs": [],
   "source": [
    "# Central tendency - Mean, Median\n",
    "ct1 = pd.DataFrame( num_attributes.apply( np.mean)   ).T\n",
    "ct2 = pd.DataFrame( num_attributes.apply( np.median) ).T\n",
    "\n",
    "# Dispersion - sts, min, max, range, skew, kurtosis\n",
    "\n",
    "d1 = pd.DataFrame( num_attributes.apply( np.std ) ).T\n",
    "d2 = pd.DataFrame( num_attributes.apply( min ) ).T\n",
    "d3 = pd.DataFrame( num_attributes.apply( max ) ).T\n",
    "d4 = pd.DataFrame( num_attributes.apply( lambda x: x.max() - x.min() ) ).T\n",
    "d5 = pd.DataFrame( num_attributes.apply( lambda x: x.skew() ) ).T\n",
    "d6 = pd.DataFrame( num_attributes.apply( lambda x: x.kurtosis() ) ).T\n",
    "\n",
    "# concatenate\n",
    "m = pd.concat( [d2, d3, d4, ct1, ct2, d1, d5, d6] ).T.reset_index()\n",
    "m.columns = ['attributes', 'min', 'max', 'range', 'mean', 'median', 'std', 'skew', 'kurtosis']\n"
   ]
  },
  {
   "cell_type": "code",
   "execution_count": 18,
   "id": "32d08676",
   "metadata": {
    "ExecuteTime": {
     "end_time": "2022-03-01T12:38:42.193175Z",
     "start_time": "2022-03-01T12:38:41.978122Z"
    },
    "hidden": true
   },
   "outputs": [
    {
     "data": {
      "text/html": [
       "<div>\n",
       "<style scoped>\n",
       "    .dataframe tbody tr th:only-of-type {\n",
       "        vertical-align: middle;\n",
       "    }\n",
       "\n",
       "    .dataframe tbody tr th {\n",
       "        vertical-align: top;\n",
       "    }\n",
       "\n",
       "    .dataframe thead th {\n",
       "        text-align: right;\n",
       "    }\n",
       "</style>\n",
       "<table border=\"1\" class=\"dataframe\">\n",
       "  <thead>\n",
       "    <tr style=\"text-align: right;\">\n",
       "      <th></th>\n",
       "      <th>attributes</th>\n",
       "      <th>min</th>\n",
       "      <th>max</th>\n",
       "      <th>range</th>\n",
       "      <th>mean</th>\n",
       "      <th>median</th>\n",
       "      <th>std</th>\n",
       "      <th>skew</th>\n",
       "      <th>kurtosis</th>\n",
       "    </tr>\n",
       "  </thead>\n",
       "  <tbody>\n",
       "    <tr>\n",
       "      <th>0</th>\n",
       "      <td>store</td>\n",
       "      <td>1.0</td>\n",
       "      <td>1115.0</td>\n",
       "      <td>1114.0</td>\n",
       "      <td>558.429727</td>\n",
       "      <td>558.0</td>\n",
       "      <td>321.908493</td>\n",
       "      <td>-0.000955</td>\n",
       "      <td>-1.200524</td>\n",
       "    </tr>\n",
       "    <tr>\n",
       "      <th>1</th>\n",
       "      <td>day_of_week</td>\n",
       "      <td>1.0</td>\n",
       "      <td>7.0</td>\n",
       "      <td>6.0</td>\n",
       "      <td>3.998341</td>\n",
       "      <td>4.0</td>\n",
       "      <td>1.997390</td>\n",
       "      <td>0.001593</td>\n",
       "      <td>-1.246873</td>\n",
       "    </tr>\n",
       "    <tr>\n",
       "      <th>2</th>\n",
       "      <td>sales</td>\n",
       "      <td>0.0</td>\n",
       "      <td>41551.0</td>\n",
       "      <td>41551.0</td>\n",
       "      <td>5773.818972</td>\n",
       "      <td>5744.0</td>\n",
       "      <td>3849.924283</td>\n",
       "      <td>0.641460</td>\n",
       "      <td>1.778375</td>\n",
       "    </tr>\n",
       "    <tr>\n",
       "      <th>3</th>\n",
       "      <td>customers</td>\n",
       "      <td>0.0</td>\n",
       "      <td>7388.0</td>\n",
       "      <td>7388.0</td>\n",
       "      <td>633.145946</td>\n",
       "      <td>609.0</td>\n",
       "      <td>464.411506</td>\n",
       "      <td>1.598650</td>\n",
       "      <td>7.091773</td>\n",
       "    </tr>\n",
       "    <tr>\n",
       "      <th>4</th>\n",
       "      <td>open</td>\n",
       "      <td>0.0</td>\n",
       "      <td>1.0</td>\n",
       "      <td>1.0</td>\n",
       "      <td>0.830107</td>\n",
       "      <td>1.0</td>\n",
       "      <td>0.375539</td>\n",
       "      <td>-1.758045</td>\n",
       "      <td>1.090723</td>\n",
       "    </tr>\n",
       "    <tr>\n",
       "      <th>5</th>\n",
       "      <td>promo</td>\n",
       "      <td>0.0</td>\n",
       "      <td>1.0</td>\n",
       "      <td>1.0</td>\n",
       "      <td>0.381515</td>\n",
       "      <td>0.0</td>\n",
       "      <td>0.485758</td>\n",
       "      <td>0.487838</td>\n",
       "      <td>-1.762018</td>\n",
       "    </tr>\n",
       "    <tr>\n",
       "      <th>6</th>\n",
       "      <td>school_holiday</td>\n",
       "      <td>0.0</td>\n",
       "      <td>1.0</td>\n",
       "      <td>1.0</td>\n",
       "      <td>0.178647</td>\n",
       "      <td>0.0</td>\n",
       "      <td>0.383056</td>\n",
       "      <td>1.677842</td>\n",
       "      <td>0.815154</td>\n",
       "    </tr>\n",
       "    <tr>\n",
       "      <th>7</th>\n",
       "      <td>competition_distance</td>\n",
       "      <td>20.0</td>\n",
       "      <td>200000.0</td>\n",
       "      <td>199980.0</td>\n",
       "      <td>5935.442677</td>\n",
       "      <td>2330.0</td>\n",
       "      <td>12547.646829</td>\n",
       "      <td>10.242344</td>\n",
       "      <td>147.789712</td>\n",
       "    </tr>\n",
       "    <tr>\n",
       "      <th>8</th>\n",
       "      <td>competition_open_since_month</td>\n",
       "      <td>1.0</td>\n",
       "      <td>12.0</td>\n",
       "      <td>11.0</td>\n",
       "      <td>6.786849</td>\n",
       "      <td>7.0</td>\n",
       "      <td>3.311085</td>\n",
       "      <td>-0.042076</td>\n",
       "      <td>-1.232607</td>\n",
       "    </tr>\n",
       "    <tr>\n",
       "      <th>9</th>\n",
       "      <td>competition_open_since_year</td>\n",
       "      <td>1900.0</td>\n",
       "      <td>2015.0</td>\n",
       "      <td>115.0</td>\n",
       "      <td>2010.324840</td>\n",
       "      <td>2012.0</td>\n",
       "      <td>5.515591</td>\n",
       "      <td>-7.235657</td>\n",
       "      <td>124.071304</td>\n",
       "    </tr>\n",
       "    <tr>\n",
       "      <th>10</th>\n",
       "      <td>promo2</td>\n",
       "      <td>0.0</td>\n",
       "      <td>1.0</td>\n",
       "      <td>1.0</td>\n",
       "      <td>0.500564</td>\n",
       "      <td>1.0</td>\n",
       "      <td>0.500000</td>\n",
       "      <td>-0.002255</td>\n",
       "      <td>-1.999999</td>\n",
       "    </tr>\n",
       "    <tr>\n",
       "      <th>11</th>\n",
       "      <td>promo2_since_week</td>\n",
       "      <td>1.0</td>\n",
       "      <td>52.0</td>\n",
       "      <td>51.0</td>\n",
       "      <td>23.619033</td>\n",
       "      <td>22.0</td>\n",
       "      <td>14.310057</td>\n",
       "      <td>0.178723</td>\n",
       "      <td>-1.184046</td>\n",
       "    </tr>\n",
       "    <tr>\n",
       "      <th>12</th>\n",
       "      <td>promo2_since_year</td>\n",
       "      <td>2009.0</td>\n",
       "      <td>2015.0</td>\n",
       "      <td>6.0</td>\n",
       "      <td>2012.793297</td>\n",
       "      <td>2013.0</td>\n",
       "      <td>1.662657</td>\n",
       "      <td>-0.784436</td>\n",
       "      <td>-0.210075</td>\n",
       "    </tr>\n",
       "    <tr>\n",
       "      <th>13</th>\n",
       "      <td>is_promo</td>\n",
       "      <td>0.0</td>\n",
       "      <td>1.0</td>\n",
       "      <td>1.0</td>\n",
       "      <td>0.159901</td>\n",
       "      <td>0.0</td>\n",
       "      <td>0.366514</td>\n",
       "      <td>1.855857</td>\n",
       "      <td>1.444209</td>\n",
       "    </tr>\n",
       "  </tbody>\n",
       "</table>\n",
       "</div>"
      ],
      "text/plain": [
       "                      attributes     min       max     range         mean  \\\n",
       "0                          store     1.0    1115.0    1114.0   558.429727   \n",
       "1                    day_of_week     1.0       7.0       6.0     3.998341   \n",
       "2                          sales     0.0   41551.0   41551.0  5773.818972   \n",
       "3                      customers     0.0    7388.0    7388.0   633.145946   \n",
       "4                           open     0.0       1.0       1.0     0.830107   \n",
       "5                          promo     0.0       1.0       1.0     0.381515   \n",
       "6                 school_holiday     0.0       1.0       1.0     0.178647   \n",
       "7           competition_distance    20.0  200000.0  199980.0  5935.442677   \n",
       "8   competition_open_since_month     1.0      12.0      11.0     6.786849   \n",
       "9    competition_open_since_year  1900.0    2015.0     115.0  2010.324840   \n",
       "10                        promo2     0.0       1.0       1.0     0.500564   \n",
       "11             promo2_since_week     1.0      52.0      51.0    23.619033   \n",
       "12             promo2_since_year  2009.0    2015.0       6.0  2012.793297   \n",
       "13                      is_promo     0.0       1.0       1.0     0.159901   \n",
       "\n",
       "    median           std       skew    kurtosis  \n",
       "0    558.0    321.908493  -0.000955   -1.200524  \n",
       "1      4.0      1.997390   0.001593   -1.246873  \n",
       "2   5744.0   3849.924283   0.641460    1.778375  \n",
       "3    609.0    464.411506   1.598650    7.091773  \n",
       "4      1.0      0.375539  -1.758045    1.090723  \n",
       "5      0.0      0.485758   0.487838   -1.762018  \n",
       "6      0.0      0.383056   1.677842    0.815154  \n",
       "7   2330.0  12547.646829  10.242344  147.789712  \n",
       "8      7.0      3.311085  -0.042076   -1.232607  \n",
       "9   2012.0      5.515591  -7.235657  124.071304  \n",
       "10     1.0      0.500000  -0.002255   -1.999999  \n",
       "11    22.0     14.310057   0.178723   -1.184046  \n",
       "12  2013.0      1.662657  -0.784436   -0.210075  \n",
       "13     0.0      0.366514   1.855857    1.444209  "
      ]
     },
     "execution_count": 18,
     "metadata": {},
     "output_type": "execute_result"
    }
   ],
   "source": [
    "m"
   ]
  },
  {
   "cell_type": "markdown",
   "id": "9f6c0b33",
   "metadata": {
    "heading_collapsed": true
   },
   "source": [
    "## 1.7.2 Categorical attributes"
   ]
  },
  {
   "cell_type": "code",
   "execution_count": 19,
   "id": "af99394d",
   "metadata": {
    "ExecuteTime": {
     "end_time": "2022-03-01T12:38:42.727796Z",
     "start_time": "2022-03-01T12:38:42.202333Z"
    },
    "hidden": true
   },
   "outputs": [
    {
     "data": {
      "text/plain": [
       "state_holiday      4\n",
       "store_type         4\n",
       "assortment         3\n",
       "promo_interval     4\n",
       "month_map         12\n",
       "dtype: int64"
      ]
     },
     "execution_count": 19,
     "metadata": {},
     "output_type": "execute_result"
    }
   ],
   "source": [
    "cat_attributes.apply( lambda x: x.unique().shape[0] )"
   ]
  },
  {
   "cell_type": "code",
   "execution_count": 20,
   "id": "236312c5",
   "metadata": {
    "ExecuteTime": {
     "end_time": "2022-03-01T12:38:42.839778Z",
     "start_time": "2022-03-01T12:38:42.735078Z"
    },
    "hidden": true
   },
   "outputs": [
    {
     "data": {
      "text/plain": [
       "state_holiday     object\n",
       "store_type        object\n",
       "assortment        object\n",
       "promo_interval    object\n",
       "month_map         object\n",
       "dtype: object"
      ]
     },
     "execution_count": 20,
     "metadata": {},
     "output_type": "execute_result"
    }
   ],
   "source": [
    "cat_attributes.dtypes"
   ]
  },
  {
   "cell_type": "code",
   "execution_count": 21,
   "id": "8839cde7",
   "metadata": {
    "ExecuteTime": {
     "end_time": "2022-03-01T12:38:46.053594Z",
     "start_time": "2022-03-01T12:38:42.847637Z"
    },
    "hidden": true
   },
   "outputs": [
    {
     "data": {
      "text/plain": [
       "<AxesSubplot:xlabel='assortment', ylabel='sales'>"
      ]
     },
     "execution_count": 21,
     "metadata": {},
     "output_type": "execute_result"
    },
    {
     "data": {
      "image/png": "[encoded data removed]",
      "text/plain": [
       "<Figure size 1800x864 with 3 Axes>"
      ]
     },
     "metadata": {},
     "output_type": "display_data"
    }
   ],
   "source": [
    "aux1 = df1[ (df1['state_holiday'] !='0' ) & ( df1['sales'] > 0 ) ]\n",
    "\n",
    "plt.subplot( 1, 3, 1 )\n",
    "sns.boxplot( x='state_holiday', y='sales', data = aux1 )\n",
    "\n",
    "plt.subplot( 1, 3, 2)\n",
    "sns.boxplot( x='store_type', y='sales', data = aux1 )\n",
    "\n",
    "plt.subplot( 1, 3, 3)\n",
    "sns.boxplot( x='assortment', y='sales', data = aux1 )\n",
    "\n"
   ]
  },
  {
   "cell_type": "code",
   "execution_count": 22,
   "id": "3aab989e",
   "metadata": {
    "ExecuteTime": {
     "end_time": "2022-03-01T12:38:46.072677Z",
     "start_time": "2022-03-01T12:38:46.059887Z"
    },
    "hidden": true
   },
   "outputs": [
    {
     "data": {
      "text/html": [
       "<div>\n",
       "<style scoped>\n",
       "    .dataframe tbody tr th:only-of-type {\n",
       "        vertical-align: middle;\n",
       "    }\n",
       "\n",
       "    .dataframe tbody tr th {\n",
       "        vertical-align: top;\n",
       "    }\n",
       "\n",
       "    .dataframe thead th {\n",
       "        text-align: right;\n",
       "    }\n",
       "</style>\n",
       "<table border=\"1\" class=\"dataframe\">\n",
       "  <thead>\n",
       "    <tr style=\"text-align: right;\">\n",
       "      <th></th>\n",
       "      <th>state_holiday</th>\n",
       "      <th>store_type</th>\n",
       "      <th>assortment</th>\n",
       "      <th>promo_interval</th>\n",
       "      <th>month_map</th>\n",
       "    </tr>\n",
       "  </thead>\n",
       "  <tbody>\n",
       "    <tr>\n",
       "      <th>0</th>\n",
       "      <td>0</td>\n",
       "      <td>c</td>\n",
       "      <td>a</td>\n",
       "      <td>0</td>\n",
       "      <td>Jul</td>\n",
       "    </tr>\n",
       "    <tr>\n",
       "      <th>1</th>\n",
       "      <td>0</td>\n",
       "      <td>a</td>\n",
       "      <td>a</td>\n",
       "      <td>Jan,Apr,Jul,Oct</td>\n",
       "      <td>Jul</td>\n",
       "    </tr>\n",
       "    <tr>\n",
       "      <th>2</th>\n",
       "      <td>0</td>\n",
       "      <td>a</td>\n",
       "      <td>a</td>\n",
       "      <td>Jan,Apr,Jul,Oct</td>\n",
       "      <td>Jul</td>\n",
       "    </tr>\n",
       "    <tr>\n",
       "      <th>3</th>\n",
       "      <td>0</td>\n",
       "      <td>c</td>\n",
       "      <td>c</td>\n",
       "      <td>0</td>\n",
       "      <td>Jul</td>\n",
       "    </tr>\n",
       "    <tr>\n",
       "      <th>4</th>\n",
       "      <td>0</td>\n",
       "      <td>a</td>\n",
       "      <td>a</td>\n",
       "      <td>0</td>\n",
       "      <td>Jul</td>\n",
       "    </tr>\n",
       "  </tbody>\n",
       "</table>\n",
       "</div>"
      ],
      "text/plain": [
       "  state_holiday store_type assortment   promo_interval month_map\n",
       "0             0          c          a                0       Jul\n",
       "1             0          a          a  Jan,Apr,Jul,Oct       Jul\n",
       "2             0          a          a  Jan,Apr,Jul,Oct       Jul\n",
       "3             0          c          c                0       Jul\n",
       "4             0          a          a                0       Jul"
      ]
     },
     "execution_count": 22,
     "metadata": {},
     "output_type": "execute_result"
    }
   ],
   "source": [
    "cat_attributes.head()"
   ]
  },
  {
   "cell_type": "markdown",
   "id": "25dd7be2",
   "metadata": {
    "ExecuteTime": {
     "end_time": "2022-02-28T21:11:43.957448Z",
     "start_time": "2022-02-28T21:11:43.951355Z"
    },
    "heading_collapsed": true
   },
   "source": [
    "# 2.0. PASSO 2 - Feature engineering"
   ]
  },
  {
   "cell_type": "code",
   "execution_count": 23,
   "id": "64c91e25",
   "metadata": {
    "ExecuteTime": {
     "end_time": "2022-03-01T12:38:46.451801Z",
     "start_time": "2022-03-01T12:38:46.077787Z"
    },
    "hidden": true
   },
   "outputs": [],
   "source": [
    "df2 = df1.copy()"
   ]
  },
  {
   "cell_type": "code",
   "execution_count": 24,
   "id": "277c202c",
   "metadata": {
    "ExecuteTime": {
     "end_time": "2022-03-01T12:38:46.920156Z",
     "start_time": "2022-03-01T12:38:46.453979Z"
    },
    "hidden": true
   },
   "outputs": [
    {
     "data": {
      "image/png": "[encoded data removed]",
      "text/plain": [
       "<IPython.core.display.Image object>"
      ]
     },
     "execution_count": 24,
     "metadata": {},
     "output_type": "execute_result"
    }
   ],
   "source": [
    "Image('image/DAILY_STORE_SALES.png')"
   ]
  },
  {
   "cell_type": "markdown",
   "id": "7d75c01b",
   "metadata": {
    "hidden": true
   },
   "source": [
    "### 2.1.1. Hipoteses loja"
   ]
  },
  {
   "cell_type": "markdown",
   "id": "965c73ca",
   "metadata": {
    "ExecuteTime": {
     "end_time": "2022-02-28T21:33:13.846009Z",
     "start_time": "2022-02-28T21:33:13.839373Z"
    },
    "hidden": true
   },
   "source": [
    "**1,** Lojas com maior quadro de funcionarios deveriam vender mais.\n",
    "\n",
    "**2,** Lojas com maior estoque deveriam vender mais.\n",
    "\n",
    "**3,** Lojas com maior porte deveriam vender mais.\n",
    "\n",
    "**4,** Lojas com maior sortimentos deveriam vender mais.\n",
    "\n",
    "**5,** Lojas com competidores mais proximos deveriam vender menos.\n",
    "\n",
    "**6,** Lojas com competidores a mais tempo deveriam vender mais."
   ]
  },
  {
   "cell_type": "markdown",
   "id": "9458a4b7",
   "metadata": {
    "hidden": true
   },
   "source": [
    "### 2.1.2. Hipotese Produto"
   ]
  },
  {
   "cell_type": "markdown",
   "id": "02c63789",
   "metadata": {
    "hidden": true
   },
   "source": [
    "**1,** Lojas que investem mais em Markentig deveriam vender mais.\n",
    "\n",
    "**2,** Lojas que expoem mais o produto na vitrine deveriam vender mais.\n",
    "\n",
    "**3,** Lojas que tem precos menores nos produtos deveriam vender mais.\n",
    "\n",
    "**4,** Lojas que ter precos menores por mais tempo nos produtos deveriam vender mais\n",
    "\n",
    "**5,** Lojas com promocoes mais agressivas (descontos maiores), deveriam vender mais.\n",
    "\n",
    "**6,** Lojas com promocoes ativas por mais tempo deveriam vender mais.\n",
    "\n",
    "**7,** Lojas com mais dias de promocao, deveriam vender mais.\n",
    "\n",
    "**8,** Lojas com mais promocoes consecutivas deveriam vender mais."
   ]
  },
  {
   "cell_type": "markdown",
   "id": "9c9aae47",
   "metadata": {
    "hidden": true
   },
   "source": [
    "### 2.1.3. Hipotese Tempo (Sazonalidade)"
   ]
  },
  {
   "cell_type": "markdown",
   "id": "2ffa3c45",
   "metadata": {
    "ExecuteTime": {
     "end_time": "2022-03-01T12:38:47.187454Z",
     "start_time": "2022-03-01T12:38:46.925586Z"
    },
    "hidden": true
   },
   "source": [
    "**1,** Lojas abertas durante o feriado de Natal, deveriam vender mais.\n",
    "\n",
    "**2,** Lojas deveriam vender mais ao longo dos anos.\n",
    "\n",
    "**3,** Lojas deveriam vender mais no segundo semestre do ano.\n",
    "\n",
    "**4,** Lojas deveriam vender mais depois do dia 10 de cada mes.\n",
    "\n",
    "**5,** Lojas deveriam vender menos aos finais de semana.\n",
    "\n",
    "**6,** Lojas deveriam vender menos durante os feriados escolares."
   ]
  },
  {
   "cell_type": "code",
   "execution_count": null,
   "id": "76bc6b1c",
   "metadata": {
    "ExecuteTime": {
     "end_time": "2022-03-01T12:38:47.190072Z",
     "start_time": "2022-03-01T12:38:47.190052Z"
    },
    "hidden": true
   },
   "outputs": [],
   "source": [
    "## 2.2. Lista final de Hipoteses\n"
   ]
  },
  {
   "cell_type": "markdown",
   "id": "d3cfa835",
   "metadata": {
    "ExecuteTime": {
     "end_time": "2022-03-01T12:44:03.222156Z",
     "start_time": "2022-03-01T12:44:03.206623Z"
    },
    "hidden": true
   },
   "source": [
    "**1,** Lojas com maior sortimentos deveriam vender mais.\n",
    "\n",
    "**2,** Lojas com competidores mais proximos deveriam vender menos.\n",
    "\n",
    "**3,** Lojas com competidores a mais tempo deveriam vender mais.\n",
    "\n",
    "**4,** Lojas com promocoes ativas por mais tempo deveriam vender mais.\n",
    "\n",
    "**5,** Lojas com mais dias de promocao, deveriam vender mais.\n",
    "\n",
    "**6,** Lojas com mais promocoes consecutivas deveriam vender mais.\n",
    "\n",
    "**7,** Lojas abertas durante o feriado de Natal, deveriam vender mais.\n",
    "\n",
    "**8,** Lojas deveriam vender mais ao longo dos anos.\n",
    "\n",
    "**9,** Lojas deveriam vender mais no segundo semestre do ano.\n",
    "\n",
    "**10,** Lojas deveriam vender mais depois do dia 10 de cada mes.\n",
    "\n",
    "**11,** Lojas deveriam vender menos aos finais de semana.\n",
    "\n",
    "**12,** Lojas deveriam vender menos durante os feriados escolares."
   ]
  },
  {
   "cell_type": "markdown",
   "id": "3b08a08d",
   "metadata": {
    "ExecuteTime": {
     "end_time": "2022-02-28T21:36:49.241914Z",
     "start_time": "2022-02-28T21:36:49.239937Z"
    },
    "hidden": true
   },
   "source": [
    "## 2.3. Feature engineering"
   ]
  },
  {
   "cell_type": "code",
   "execution_count": 54,
   "id": "f8026ea4",
   "metadata": {
    "ExecuteTime": {
     "end_time": "2022-03-01T13:26:55.601383Z",
     "start_time": "2022-03-01T13:25:54.540689Z"
    },
    "hidden": true
   },
   "outputs": [],
   "source": [
    "#year\n",
    "df2['year'] = df2['date'].dt.year\n",
    "\n",
    "# month\n",
    "df2['month'] = df2['date'].dt.month\n",
    "\n",
    "# day\n",
    "df2['day'] = df2['date'].dt.day\n",
    "\n",
    "# week of year\n",
    "df2['week_of_year'] = df2['date'].dt.isocalendar().week\n",
    "\n",
    "# week year\n",
    "df2['year_week'] = df2['date'].dt.strftime( '%Y-%W' )\n",
    "\n",
    "\n",
    "# competition since\n",
    "df2['competition_since'] = df2.apply( lambda x: datetime.datetime( year=x['competition_open_since_year'], month=x['competition_open_since_month'], day=1 ), axis=1 )\n",
    "df2['competition_time_month'] = ( ( df2['date'] - df2['competition_since'] )/30).apply( lambda x: x.days ).astype(int)\n",
    "\n",
    "# promo since\n",
    "df2['promo_since'] = df2['promo2_since_year'].astype( str ) + '-' + df2['promo2_since_week'].astype( str )\n",
    "df2['promo_since'] = df2['promo_since'].apply( lambda x: datetime.datetime.strptime( x + '-1', '%Y-%W-%w' ) - datetime.timedelta( days=7 ) )\n",
    "df2['promo_time_week'] = (( df2['date'] - df2['promo_since']) /7).apply( lambda x: x.days ).astype( int )\n",
    "\n",
    "# assortment\n",
    "# a = basic, b = extra, c = extended\n",
    "df2['assortment'] = df2['assortment'].apply( lambda x: 'basic' if x == 'a' else 'extra' if x == 'b' else 'extended')\n",
    "\n",
    "# state holiday\n",
    "# a = public_holiday, b = easter_holiday, c = christmas\n",
    "df2['state_holiday'] = df2['state_holiday'].apply( lambda x: 'public_holiday' if x == 'a' else 'easter_holiday' if x == 'b' else 'christmas' if x == 'c' else 'regular_day')"
   ]
  },
  {
   "cell_type": "markdown",
   "id": "2f7dcfdc",
   "metadata": {
    "ExecuteTime": {
     "end_time": "2022-03-01T12:38:47.197837Z",
     "start_time": "2022-03-01T12:38:47.197816Z"
    },
    "heading_collapsed": true
   },
   "source": [
    "# 3.0. PASSO 3 - Filtragem de variaveis"
   ]
  },
  {
   "cell_type": "code",
   "execution_count": 55,
   "id": "a07b20cf",
   "metadata": {
    "ExecuteTime": {
     "end_time": "2022-03-01T13:27:07.918903Z",
     "start_time": "2022-03-01T13:27:06.776407Z"
    },
    "hidden": true
   },
   "outputs": [],
   "source": [
    "df3 = df2.copy()"
   ]
  },
  {
   "cell_type": "code",
   "execution_count": 56,
   "id": "77e4b452",
   "metadata": {
    "ExecuteTime": {
     "end_time": "2022-03-01T13:27:09.482946Z",
     "start_time": "2022-03-01T13:27:09.453220Z"
    },
    "hidden": true
   },
   "outputs": [
    {
     "data": {
      "text/html": [
       "<div>\n",
       "<style scoped>\n",
       "    .dataframe tbody tr th:only-of-type {\n",
       "        vertical-align: middle;\n",
       "    }\n",
       "\n",
       "    .dataframe tbody tr th {\n",
       "        vertical-align: top;\n",
       "    }\n",
       "\n",
       "    .dataframe thead th {\n",
       "        text-align: right;\n",
       "    }\n",
       "</style>\n",
       "<table border=\"1\" class=\"dataframe\">\n",
       "  <thead>\n",
       "    <tr style=\"text-align: right;\">\n",
       "      <th></th>\n",
       "      <th>0</th>\n",
       "      <th>1</th>\n",
       "      <th>2</th>\n",
       "      <th>3</th>\n",
       "      <th>4</th>\n",
       "    </tr>\n",
       "  </thead>\n",
       "  <tbody>\n",
       "    <tr>\n",
       "      <th>store</th>\n",
       "      <td>1</td>\n",
       "      <td>2</td>\n",
       "      <td>3</td>\n",
       "      <td>4</td>\n",
       "      <td>5</td>\n",
       "    </tr>\n",
       "    <tr>\n",
       "      <th>day_of_week</th>\n",
       "      <td>5</td>\n",
       "      <td>5</td>\n",
       "      <td>5</td>\n",
       "      <td>5</td>\n",
       "      <td>5</td>\n",
       "    </tr>\n",
       "    <tr>\n",
       "      <th>date</th>\n",
       "      <td>2015-07-31 00:00:00</td>\n",
       "      <td>2015-07-31 00:00:00</td>\n",
       "      <td>2015-07-31 00:00:00</td>\n",
       "      <td>2015-07-31 00:00:00</td>\n",
       "      <td>2015-07-31 00:00:00</td>\n",
       "    </tr>\n",
       "    <tr>\n",
       "      <th>sales</th>\n",
       "      <td>5263</td>\n",
       "      <td>6064</td>\n",
       "      <td>8314</td>\n",
       "      <td>13995</td>\n",
       "      <td>4822</td>\n",
       "    </tr>\n",
       "    <tr>\n",
       "      <th>customers</th>\n",
       "      <td>555</td>\n",
       "      <td>625</td>\n",
       "      <td>821</td>\n",
       "      <td>1498</td>\n",
       "      <td>559</td>\n",
       "    </tr>\n",
       "    <tr>\n",
       "      <th>open</th>\n",
       "      <td>1</td>\n",
       "      <td>1</td>\n",
       "      <td>1</td>\n",
       "      <td>1</td>\n",
       "      <td>1</td>\n",
       "    </tr>\n",
       "    <tr>\n",
       "      <th>promo</th>\n",
       "      <td>1</td>\n",
       "      <td>1</td>\n",
       "      <td>1</td>\n",
       "      <td>1</td>\n",
       "      <td>1</td>\n",
       "    </tr>\n",
       "    <tr>\n",
       "      <th>state_holiday</th>\n",
       "      <td>regular_day</td>\n",
       "      <td>regular_day</td>\n",
       "      <td>regular_day</td>\n",
       "      <td>regular_day</td>\n",
       "      <td>regular_day</td>\n",
       "    </tr>\n",
       "    <tr>\n",
       "      <th>school_holiday</th>\n",
       "      <td>1</td>\n",
       "      <td>1</td>\n",
       "      <td>1</td>\n",
       "      <td>1</td>\n",
       "      <td>1</td>\n",
       "    </tr>\n",
       "    <tr>\n",
       "      <th>store_type</th>\n",
       "      <td>c</td>\n",
       "      <td>a</td>\n",
       "      <td>a</td>\n",
       "      <td>c</td>\n",
       "      <td>a</td>\n",
       "    </tr>\n",
       "    <tr>\n",
       "      <th>assortment</th>\n",
       "      <td>basic</td>\n",
       "      <td>basic</td>\n",
       "      <td>basic</td>\n",
       "      <td>extended</td>\n",
       "      <td>basic</td>\n",
       "    </tr>\n",
       "    <tr>\n",
       "      <th>competition_distance</th>\n",
       "      <td>1270.0</td>\n",
       "      <td>570.0</td>\n",
       "      <td>14130.0</td>\n",
       "      <td>620.0</td>\n",
       "      <td>29910.0</td>\n",
       "    </tr>\n",
       "    <tr>\n",
       "      <th>competition_open_since_month</th>\n",
       "      <td>9</td>\n",
       "      <td>11</td>\n",
       "      <td>12</td>\n",
       "      <td>9</td>\n",
       "      <td>4</td>\n",
       "    </tr>\n",
       "    <tr>\n",
       "      <th>competition_open_since_year</th>\n",
       "      <td>2008</td>\n",
       "      <td>2007</td>\n",
       "      <td>2006</td>\n",
       "      <td>2009</td>\n",
       "      <td>2015</td>\n",
       "    </tr>\n",
       "    <tr>\n",
       "      <th>promo2</th>\n",
       "      <td>0</td>\n",
       "      <td>1</td>\n",
       "      <td>1</td>\n",
       "      <td>0</td>\n",
       "      <td>0</td>\n",
       "    </tr>\n",
       "    <tr>\n",
       "      <th>promo2_since_week</th>\n",
       "      <td>31</td>\n",
       "      <td>13</td>\n",
       "      <td>14</td>\n",
       "      <td>31</td>\n",
       "      <td>31</td>\n",
       "    </tr>\n",
       "    <tr>\n",
       "      <th>promo2_since_year</th>\n",
       "      <td>2015</td>\n",
       "      <td>2010</td>\n",
       "      <td>2011</td>\n",
       "      <td>2015</td>\n",
       "      <td>2015</td>\n",
       "    </tr>\n",
       "    <tr>\n",
       "      <th>promo_interval</th>\n",
       "      <td>0</td>\n",
       "      <td>Jan,Apr,Jul,Oct</td>\n",
       "      <td>Jan,Apr,Jul,Oct</td>\n",
       "      <td>0</td>\n",
       "      <td>0</td>\n",
       "    </tr>\n",
       "    <tr>\n",
       "      <th>month_map</th>\n",
       "      <td>Jul</td>\n",
       "      <td>Jul</td>\n",
       "      <td>Jul</td>\n",
       "      <td>Jul</td>\n",
       "      <td>Jul</td>\n",
       "    </tr>\n",
       "    <tr>\n",
       "      <th>is_promo</th>\n",
       "      <td>0</td>\n",
       "      <td>1</td>\n",
       "      <td>1</td>\n",
       "      <td>0</td>\n",
       "      <td>0</td>\n",
       "    </tr>\n",
       "    <tr>\n",
       "      <th>year</th>\n",
       "      <td>2015</td>\n",
       "      <td>2015</td>\n",
       "      <td>2015</td>\n",
       "      <td>2015</td>\n",
       "      <td>2015</td>\n",
       "    </tr>\n",
       "    <tr>\n",
       "      <th>month</th>\n",
       "      <td>7</td>\n",
       "      <td>7</td>\n",
       "      <td>7</td>\n",
       "      <td>7</td>\n",
       "      <td>7</td>\n",
       "    </tr>\n",
       "    <tr>\n",
       "      <th>day</th>\n",
       "      <td>31</td>\n",
       "      <td>31</td>\n",
       "      <td>31</td>\n",
       "      <td>31</td>\n",
       "      <td>31</td>\n",
       "    </tr>\n",
       "    <tr>\n",
       "      <th>week_of_year</th>\n",
       "      <td>31</td>\n",
       "      <td>31</td>\n",
       "      <td>31</td>\n",
       "      <td>31</td>\n",
       "      <td>31</td>\n",
       "    </tr>\n",
       "    <tr>\n",
       "      <th>year_week</th>\n",
       "      <td>2015-30</td>\n",
       "      <td>2015-30</td>\n",
       "      <td>2015-30</td>\n",
       "      <td>2015-30</td>\n",
       "      <td>2015-30</td>\n",
       "    </tr>\n",
       "    <tr>\n",
       "      <th>competition_since</th>\n",
       "      <td>2008-09-01 00:00:00</td>\n",
       "      <td>2007-11-01 00:00:00</td>\n",
       "      <td>2006-12-01 00:00:00</td>\n",
       "      <td>2009-09-01 00:00:00</td>\n",
       "      <td>2015-04-01 00:00:00</td>\n",
       "    </tr>\n",
       "    <tr>\n",
       "      <th>competition_time_month</th>\n",
       "      <td>84</td>\n",
       "      <td>94</td>\n",
       "      <td>105</td>\n",
       "      <td>71</td>\n",
       "      <td>4</td>\n",
       "    </tr>\n",
       "    <tr>\n",
       "      <th>promo_since</th>\n",
       "      <td>2015-07-27 00:00:00</td>\n",
       "      <td>2010-03-22 00:00:00</td>\n",
       "      <td>2011-03-28 00:00:00</td>\n",
       "      <td>2015-07-27 00:00:00</td>\n",
       "      <td>2015-07-27 00:00:00</td>\n",
       "    </tr>\n",
       "    <tr>\n",
       "      <th>promo_time_week</th>\n",
       "      <td>0</td>\n",
       "      <td>279</td>\n",
       "      <td>226</td>\n",
       "      <td>0</td>\n",
       "      <td>0</td>\n",
       "    </tr>\n",
       "  </tbody>\n",
       "</table>\n",
       "</div>"
      ],
      "text/plain": [
       "                                                0                    1  \\\n",
       "store                                           1                    2   \n",
       "day_of_week                                     5                    5   \n",
       "date                          2015-07-31 00:00:00  2015-07-31 00:00:00   \n",
       "sales                                        5263                 6064   \n",
       "customers                                     555                  625   \n",
       "open                                            1                    1   \n",
       "promo                                           1                    1   \n",
       "state_holiday                         regular_day          regular_day   \n",
       "school_holiday                                  1                    1   \n",
       "store_type                                      c                    a   \n",
       "assortment                                  basic                basic   \n",
       "competition_distance                       1270.0                570.0   \n",
       "competition_open_since_month                    9                   11   \n",
       "competition_open_since_year                  2008                 2007   \n",
       "promo2                                          0                    1   \n",
       "promo2_since_week                              31                   13   \n",
       "promo2_since_year                            2015                 2010   \n",
       "promo_interval                                  0      Jan,Apr,Jul,Oct   \n",
       "month_map                                     Jul                  Jul   \n",
       "is_promo                                        0                    1   \n",
       "year                                         2015                 2015   \n",
       "month                                           7                    7   \n",
       "day                                            31                   31   \n",
       "week_of_year                                   31                   31   \n",
       "year_week                                 2015-30              2015-30   \n",
       "competition_since             2008-09-01 00:00:00  2007-11-01 00:00:00   \n",
       "competition_time_month                         84                   94   \n",
       "promo_since                   2015-07-27 00:00:00  2010-03-22 00:00:00   \n",
       "promo_time_week                                 0                  279   \n",
       "\n",
       "                                                2                    3  \\\n",
       "store                                           3                    4   \n",
       "day_of_week                                     5                    5   \n",
       "date                          2015-07-31 00:00:00  2015-07-31 00:00:00   \n",
       "sales                                        8314                13995   \n",
       "customers                                     821                 1498   \n",
       "open                                            1                    1   \n",
       "promo                                           1                    1   \n",
       "state_holiday                         regular_day          regular_day   \n",
       "school_holiday                                  1                    1   \n",
       "store_type                                      a                    c   \n",
       "assortment                                  basic             extended   \n",
       "competition_distance                      14130.0                620.0   \n",
       "competition_open_since_month                   12                    9   \n",
       "competition_open_since_year                  2006                 2009   \n",
       "promo2                                          1                    0   \n",
       "promo2_since_week                              14                   31   \n",
       "promo2_since_year                            2011                 2015   \n",
       "promo_interval                    Jan,Apr,Jul,Oct                    0   \n",
       "month_map                                     Jul                  Jul   \n",
       "is_promo                                        1                    0   \n",
       "year                                         2015                 2015   \n",
       "month                                           7                    7   \n",
       "day                                            31                   31   \n",
       "week_of_year                                   31                   31   \n",
       "year_week                                 2015-30              2015-30   \n",
       "competition_since             2006-12-01 00:00:00  2009-09-01 00:00:00   \n",
       "competition_time_month                        105                   71   \n",
       "promo_since                   2011-03-28 00:00:00  2015-07-27 00:00:00   \n",
       "promo_time_week                               226                    0   \n",
       "\n",
       "                                                4  \n",
       "store                                           5  \n",
       "day_of_week                                     5  \n",
       "date                          2015-07-31 00:00:00  \n",
       "sales                                        4822  \n",
       "customers                                     559  \n",
       "open                                            1  \n",
       "promo                                           1  \n",
       "state_holiday                         regular_day  \n",
       "school_holiday                                  1  \n",
       "store_type                                      a  \n",
       "assortment                                  basic  \n",
       "competition_distance                      29910.0  \n",
       "competition_open_since_month                    4  \n",
       "competition_open_since_year                  2015  \n",
       "promo2                                          0  \n",
       "promo2_since_week                              31  \n",
       "promo2_since_year                            2015  \n",
       "promo_interval                                  0  \n",
       "month_map                                     Jul  \n",
       "is_promo                                        0  \n",
       "year                                         2015  \n",
       "month                                           7  \n",
       "day                                            31  \n",
       "week_of_year                                   31  \n",
       "year_week                                 2015-30  \n",
       "competition_since             2015-04-01 00:00:00  \n",
       "competition_time_month                          4  \n",
       "promo_since                   2015-07-27 00:00:00  \n",
       "promo_time_week                                 0  "
      ]
     },
     "execution_count": 56,
     "metadata": {},
     "output_type": "execute_result"
    }
   ],
   "source": [
    "df3.head().T"
   ]
  },
  {
   "cell_type": "code",
   "execution_count": 57,
   "id": "24829b3b",
   "metadata": {
    "ExecuteTime": {
     "end_time": "2022-03-01T13:27:09.883285Z",
     "start_time": "2022-03-01T13:27:09.879517Z"
    },
    "hidden": true
   },
   "outputs": [],
   "source": [
    "## 3.1. Filtragem das linhas"
   ]
  },
  {
   "cell_type": "code",
   "execution_count": 58,
   "id": "47560435",
   "metadata": {
    "ExecuteTime": {
     "end_time": "2022-03-01T13:27:11.541514Z",
     "start_time": "2022-03-01T13:27:11.343179Z"
    },
    "hidden": true
   },
   "outputs": [],
   "source": [
    "df3 = df3[(df3['open'] != 0 ) & (df3['sales'] > 0 ) ]"
   ]
  },
  {
   "cell_type": "markdown",
   "id": "e13ded12",
   "metadata": {
    "ExecuteTime": {
     "end_time": "2022-02-28T21:55:29.379206Z",
     "start_time": "2022-02-28T21:55:29.373834Z"
    },
    "hidden": true
   },
   "source": [
    "## 3.2. Select columns"
   ]
  },
  {
   "cell_type": "code",
   "execution_count": 59,
   "id": "6d6588d2",
   "metadata": {
    "ExecuteTime": {
     "end_time": "2022-03-01T13:27:13.316302Z",
     "start_time": "2022-03-01T13:27:13.200006Z"
    },
    "hidden": true
   },
   "outputs": [],
   "source": [
    "cols_drop = [ 'customers', 'open', 'promo_interval', 'month_map' ]\n",
    "df3 = df3.drop( cols_drop, axis=1 )"
   ]
  },
  {
   "cell_type": "code",
   "execution_count": null,
   "id": "10866e70",
   "metadata": {
    "ExecuteTime": {
     "end_time": "2022-03-01T12:38:47.228073Z",
     "start_time": "2022-03-01T12:38:47.228041Z"
    },
    "hidden": true,
    "scrolled": true
   },
   "outputs": [],
   "source": [
    "df3.head()"
   ]
  },
  {
   "cell_type": "markdown",
   "id": "e9657d62",
   "metadata": {
    "heading_collapsed": true
   },
   "source": [
    "# 4.0. PASSO 4 - Analise e exploracao dos dados"
   ]
  },
  {
   "cell_type": "code",
   "execution_count": 60,
   "id": "e31cf13b",
   "metadata": {
    "ExecuteTime": {
     "end_time": "2022-03-01T13:27:19.989948Z",
     "start_time": "2022-03-01T13:27:19.683723Z"
    },
    "hidden": true
   },
   "outputs": [],
   "source": [
    "df4 = df3.copy()"
   ]
  },
  {
   "cell_type": "markdown",
   "id": "8980390b",
   "metadata": {
    "hidden": true
   },
   "source": [
    "## 4.1. Analise Univariada"
   ]
  },
  {
   "cell_type": "markdown",
   "id": "7dc09df0",
   "metadata": {
    "ExecuteTime": {
     "end_time": "2022-02-28T22:04:16.026128Z",
     "start_time": "2022-02-28T22:04:16.016466Z"
    },
    "hidden": true
   },
   "source": [
    "### 4.1.1. Response variable "
   ]
  },
  {
   "cell_type": "code",
   "execution_count": 38,
   "id": "37cb8ca8",
   "metadata": {
    "ExecuteTime": {
     "end_time": "2022-03-01T12:48:43.340940Z",
     "start_time": "2022-03-01T12:48:37.862116Z"
    },
    "hidden": true
   },
   "outputs": [
    {
     "name": "stderr",
     "output_type": "stream",
     "text": [
      "/home/clever/.local/lib/python3.9/site-packages/seaborn/distributions.py:2619: FutureWarning: `distplot` is a deprecated function and will be removed in a future version. Please adapt your code to use either `displot` (a figure-level function with similar flexibility) or `histplot` (an axes-level function for histograms).\n",
      "  warnings.warn(msg, FutureWarning)\n"
     ]
    },
    {
     "data": {
      "text/plain": [
       "<AxesSubplot:xlabel='sales', ylabel='Density'>"
      ]
     },
     "execution_count": 38,
     "metadata": {},
     "output_type": "execute_result"
    },
    {
     "data": {
      "image/png": "[encoded data removed]",
      "text/plain": [
       "<Figure size 1800x864 with 1 Axes>"
      ]
     },
     "metadata": {},
     "output_type": "display_data"
    }
   ],
   "source": [
    "sns.distplot(np.log1p( df4['sales']))\n",
    "# sns.distplot( df4['sales'])"
   ]
  },
  {
   "cell_type": "markdown",
   "id": "84e52986",
   "metadata": {
    "ExecuteTime": {
     "end_time": "2022-02-28T22:10:11.351047Z",
     "start_time": "2022-02-28T22:10:11.347475Z"
    },
    "hidden": true
   },
   "source": [
    "### 4.1.2. Numerical variable"
   ]
  },
  {
   "cell_type": "code",
   "execution_count": 39,
   "id": "9f10594b",
   "metadata": {
    "ExecuteTime": {
     "end_time": "2022-03-01T12:48:47.561934Z",
     "start_time": "2022-03-01T12:48:43.343743Z"
    },
    "hidden": true
   },
   "outputs": [
    {
     "data": {
      "text/plain": [
       "array([[<AxesSubplot:title={'center':'store'}>,\n",
       "        <AxesSubplot:title={'center':'day_of_week'}>,\n",
       "        <AxesSubplot:title={'center':'sales'}>,\n",
       "        <AxesSubplot:title={'center':'customers'}>],\n",
       "       [<AxesSubplot:title={'center':'open'}>,\n",
       "        <AxesSubplot:title={'center':'promo'}>,\n",
       "        <AxesSubplot:title={'center':'school_holiday'}>,\n",
       "        <AxesSubplot:title={'center':'competition_distance'}>],\n",
       "       [<AxesSubplot:title={'center':'competition_open_since_month'}>,\n",
       "        <AxesSubplot:title={'center':'competition_open_since_year'}>,\n",
       "        <AxesSubplot:title={'center':'promo2'}>,\n",
       "        <AxesSubplot:title={'center':'promo2_since_week'}>],\n",
       "       [<AxesSubplot:title={'center':'promo2_since_year'}>,\n",
       "        <AxesSubplot:title={'center':'is_promo'}>, <AxesSubplot:>,\n",
       "        <AxesSubplot:>]], dtype=object)"
      ]
     },
     "execution_count": 39,
     "metadata": {},
     "output_type": "execute_result"
    },
    {
     "data": {
      "image/png": "[encoded data removed]",
      "text/plain": [
       "<Figure size 1800x864 with 16 Axes>"
      ]
     },
     "metadata": {},
     "output_type": "display_data"
    }
   ],
   "source": [
    "num_attributes.hist( bins=25 )"
   ]
  },
  {
   "cell_type": "markdown",
   "id": "4ac1ce51",
   "metadata": {
    "hidden": true
   },
   "source": [
    "### 4.1.3 Categorical variable"
   ]
  },
  {
   "cell_type": "code",
   "execution_count": 40,
   "id": "7d02e151",
   "metadata": {
    "ExecuteTime": {
     "end_time": "2022-03-01T12:48:47.719086Z",
     "start_time": "2022-03-01T12:48:47.563765Z"
    },
    "hidden": true
   },
   "outputs": [
    {
     "data": {
      "text/plain": [
       "0      a\n",
       "3      c\n",
       "258    b\n",
       "Name: assortment, dtype: object"
      ]
     },
     "execution_count": 40,
     "metadata": {},
     "output_type": "execute_result"
    }
   ],
   "source": [
    "df4['assortment'].drop_duplicates()"
   ]
  },
  {
   "cell_type": "code",
   "execution_count": 41,
   "id": "f4a86751",
   "metadata": {
    "ExecuteTime": {
     "end_time": "2022-03-01T12:48:55.592318Z",
     "start_time": "2022-03-01T12:48:47.721575Z"
    },
    "hidden": true
   },
   "outputs": [
    {
     "name": "stderr",
     "output_type": "stream",
     "text": [
      "/home/clever/.local/lib/python3.9/site-packages/seaborn/_decorators.py:36: FutureWarning: Pass the following variable as a keyword arg: x. From version 0.12, the only valid positional argument will be `data`, and passing other arguments without an explicit keyword will result in an error or misinterpretation.\n",
      "  warnings.warn(\n",
      "/home/clever/.local/lib/python3.9/site-packages/seaborn/_decorators.py:36: FutureWarning: Pass the following variable as a keyword arg: x. From version 0.12, the only valid positional argument will be `data`, and passing other arguments without an explicit keyword will result in an error or misinterpretation.\n",
      "  warnings.warn(\n",
      "/home/clever/.local/lib/python3.9/site-packages/seaborn/_decorators.py:36: FutureWarning: Pass the following variable as a keyword arg: x. From version 0.12, the only valid positional argument will be `data`, and passing other arguments without an explicit keyword will result in an error or misinterpretation.\n",
      "  warnings.warn(\n"
     ]
    },
    {
     "data": {
      "text/plain": [
       "<AxesSubplot:>"
      ]
     },
     "execution_count": 41,
     "metadata": {},
     "output_type": "execute_result"
    },
    {
     "data": {
      "image/png": "[encoded data removed]",
      "text/plain": [
       "<Figure size 1800x864 with 6 Axes>"
      ]
     },
     "metadata": {},
     "output_type": "display_data"
    }
   ],
   "source": [
    "# state_holiday\n",
    "plt.subplot( 3, 2, 1)\n",
    "a = df4[df4['state_holiday'] != 'regular_day']\n",
    "sns.countplot( a['state_holiday'] )\n",
    "\n",
    "plt.subplot( 3, 2, 2)\n",
    "sns.kdeplot( df4[df4['state_holiday'] == 'public_holiday']['sales'], label='public_holiday', shade=True )\n",
    "sns.kdeplot( df4[df4['state_holiday'] == 'easter_holiday']['sales'], label='easter_holiday', shade=True )\n",
    "sns.kdeplot( df4[df4['state_holiday'] == 'christmas'     ]['sales'], label='christmas'     , shade=True )\n",
    "# store_type\n",
    "plt.subplot( 3, 2, 3)\n",
    "sns.countplot( df4['store_type'] )\n",
    "\n",
    "plt.subplot( 3, 2, 4)\n",
    "sns.kdeplot( df4[df4['store_type'] == 'a']['sales'], label='a', shade=True )\n",
    "sns.kdeplot( df4[df4['store_type'] == 'b']['sales'], label='b', shade=True )\n",
    "sns.kdeplot( df4[df4['store_type'] == 'c']['sales'], label='c', shade=True )\n",
    "sns.kdeplot( df4[df4['store_type'] == 'd']['sales'], label='d', shade=True )\n",
    "\n",
    "# assortment\n",
    "plt.subplot( 3, 2, 5)\n",
    "sns.countplot( df4['assortment'] )\n",
    "\n",
    "plt.subplot( 3, 2, 6)\n",
    "sns.kdeplot( df4[df4['assortment'] == 'basic'   ]['sales'], label='basic'   , shade=True )\n",
    "sns.kdeplot( df4[df4['assortment'] == 'extended']['sales'], label='extended', shade=True )\n",
    "sns.kdeplot( df4[df4['assortment'] == 'extra'   ]['sales'], label='extra'   , shade=True )"
   ]
  },
  {
   "cell_type": "markdown",
   "id": "c8b4bb15",
   "metadata": {
    "hidden": true
   },
   "source": [
    "## 4.2. Analise bivariada"
   ]
  },
  {
   "cell_type": "code",
   "execution_count": null,
   "id": "81c21fa3",
   "metadata": {
    "hidden": true
   },
   "outputs": [],
   "source": []
  },
  {
   "cell_type": "code",
   "execution_count": null,
   "id": "e0eda206",
   "metadata": {
    "hidden": true
   },
   "outputs": [],
   "source": []
  },
  {
   "cell_type": "markdown",
   "id": "85136fde",
   "metadata": {
    "hidden": true
   },
   "source": [
    "## 4.3. Analise multivarida"
   ]
  },
  {
   "cell_type": "code",
   "execution_count": 77,
   "id": "1b3ae518",
   "metadata": {
    "ExecuteTime": {
     "end_time": "2022-03-01T13:59:13.317039Z",
     "start_time": "2022-03-01T13:59:13.293767Z"
    },
    "hidden": true
   },
   "outputs": [
    {
     "data": {
      "text/plain": [
       "store                                    int64\n",
       "day_of_week                              int64\n",
       "date                            datetime64[ns]\n",
       "sales                                    int64\n",
       "promo                                    int64\n",
       "state_holiday                           object\n",
       "school_holiday                           int64\n",
       "store_type                              object\n",
       "assortment                              object\n",
       "competition_distance                   float64\n",
       "competition_open_since_month             int64\n",
       "competition_open_since_year              int64\n",
       "promo2                                   int64\n",
       "promo2_since_week                        int64\n",
       "promo2_since_year                        int64\n",
       "is_promo                                 int64\n",
       "year                                     int64\n",
       "month                                    int64\n",
       "day                                      int64\n",
       "week_of_year                            UInt32\n",
       "year_week                               object\n",
       "competition_since               datetime64[ns]\n",
       "competition_time_month                   int64\n",
       "promo_since                     datetime64[ns]\n",
       "promo_time_week                          int64\n",
       "dtype: object"
      ]
     },
     "execution_count": 77,
     "metadata": {},
     "output_type": "execute_result"
    }
   ],
   "source": [
    "df4.dtypes"
   ]
  },
  {
   "cell_type": "markdown",
   "id": "3343f066",
   "metadata": {
    "heading_collapsed": true
   },
   "source": [
    "# 5.0. PASSO 5 - Preparacao dos dados"
   ]
  },
  {
   "cell_type": "code",
   "execution_count": 83,
   "id": "dfeece78",
   "metadata": {
    "ExecuteTime": {
     "end_time": "2022-03-01T14:08:39.540298Z",
     "start_time": "2022-03-01T14:08:39.331119Z"
    },
    "hidden": true
   },
   "outputs": [],
   "source": [
    "df5 = df4.copy()"
   ]
  },
  {
   "cell_type": "code",
   "execution_count": 84,
   "id": "49d7509a",
   "metadata": {
    "ExecuteTime": {
     "end_time": "2022-03-01T14:08:40.369576Z",
     "start_time": "2022-03-01T14:08:40.366847Z"
    },
    "hidden": true
   },
   "outputs": [],
   "source": [
    "## 5.1. Normalizacao"
   ]
  },
  {
   "cell_type": "code",
   "execution_count": 85,
   "id": "da5a4020",
   "metadata": {
    "ExecuteTime": {
     "end_time": "2022-03-01T14:08:40.856410Z",
     "start_time": "2022-03-01T14:08:40.824221Z"
    },
    "hidden": true
   },
   "outputs": [],
   "source": [
    "## 5.2. Rescaling"
   ]
  },
  {
   "cell_type": "code",
   "execution_count": 86,
   "id": "f5716586",
   "metadata": {
    "ExecuteTime": {
     "end_time": "2022-03-01T14:08:58.198729Z",
     "start_time": "2022-03-01T14:08:53.329876Z"
    },
    "hidden": true
   },
   "outputs": [],
   "source": [
    "rs = RobustScaler()\n",
    "mms = MinMaxScaler()\n",
    "\n",
    "# competition distance\n",
    "df5['competition_distance'] = rs.fit_transform( df5[['competition_distance']].values )\n",
    "pickle.dump( rs, open( 'parameter/competition_distance_scaler.pk1', 'wb' ) )\n",
    "\n",
    "# competition time month\n",
    "df5['competition_time_month'] = rs.fit_transform( df5[['competition_time_month']].values )\n",
    "pickle.dump( rs, open( 'parameter/competition_time_month_scaler.pk1', 'wb' ) )\n",
    "\n",
    "# promo time week\n",
    "df5['promo_time_week'] = mms.fit_transform( df5[['promo_time_week']].values )\n",
    "pickle.dump( mms, open( 'parameter/promo_time_week_scaler.pk1', 'wb' ) )\n",
    "\n",
    "# year\n",
    "df5['year'] = mms.fit_transform( df5[['year']].values)\n",
    "pickle.dump( mms, open( 'parameter/year_scaler.pk1', 'wb') )\n"
   ]
  },
  {
   "cell_type": "code",
   "execution_count": 65,
   "id": "06af82b4",
   "metadata": {
    "ExecuteTime": {
     "end_time": "2022-03-01T13:28:30.476045Z",
     "start_time": "2022-03-01T13:28:26.426277Z"
    },
    "collapsed": true,
    "hidden": true
   },
   "outputs": [
    {
     "name": "stderr",
     "output_type": "stream",
     "text": [
      "/home/clever/.local/lib/python3.9/site-packages/seaborn/distributions.py:2619: FutureWarning: `distplot` is a deprecated function and will be removed in a future version. Please adapt your code to use either `displot` (a figure-level function with similar flexibility) or `histplot` (an axes-level function for histograms).\n",
      "  warnings.warn(msg, FutureWarning)\n"
     ]
    },
    {
     "data": {
      "text/plain": [
       "<AxesSubplot:xlabel='competition_distance', ylabel='Density'>"
      ]
     },
     "execution_count": 65,
     "metadata": {},
     "output_type": "execute_result"
    },
    {
     "data": {
      "image/png": "[encoded data removed]",
      "text/plain": [
       "<Figure size 1800x864 with 1 Axes>"
      ]
     },
     "metadata": {},
     "output_type": "display_data"
    }
   ],
   "source": [
    "sns.distplot(df5['competition_distance'])"
   ]
  },
  {
   "cell_type": "code",
   "execution_count": 87,
   "id": "789af58c",
   "metadata": {
    "ExecuteTime": {
     "end_time": "2022-03-01T14:09:04.908612Z",
     "start_time": "2022-03-01T14:09:04.878727Z"
    },
    "hidden": true
   },
   "outputs": [
    {
     "data": {
      "text/html": [
       "<div>\n",
       "<style scoped>\n",
       "    .dataframe tbody tr th:only-of-type {\n",
       "        vertical-align: middle;\n",
       "    }\n",
       "\n",
       "    .dataframe tbody tr th {\n",
       "        vertical-align: top;\n",
       "    }\n",
       "\n",
       "    .dataframe thead th {\n",
       "        text-align: right;\n",
       "    }\n",
       "</style>\n",
       "<table border=\"1\" class=\"dataframe\">\n",
       "  <thead>\n",
       "    <tr style=\"text-align: right;\">\n",
       "      <th></th>\n",
       "      <th>store</th>\n",
       "      <th>day_of_week</th>\n",
       "      <th>date</th>\n",
       "      <th>sales</th>\n",
       "      <th>promo</th>\n",
       "      <th>state_holiday</th>\n",
       "      <th>school_holiday</th>\n",
       "      <th>store_type</th>\n",
       "      <th>assortment</th>\n",
       "      <th>competition_distance</th>\n",
       "      <th>...</th>\n",
       "      <th>is_promo</th>\n",
       "      <th>year</th>\n",
       "      <th>month</th>\n",
       "      <th>day</th>\n",
       "      <th>week_of_year</th>\n",
       "      <th>year_week</th>\n",
       "      <th>competition_since</th>\n",
       "      <th>competition_time_month</th>\n",
       "      <th>promo_since</th>\n",
       "      <th>promo_time_week</th>\n",
       "    </tr>\n",
       "  </thead>\n",
       "  <tbody>\n",
       "    <tr>\n",
       "      <th>0</th>\n",
       "      <td>1</td>\n",
       "      <td>5</td>\n",
       "      <td>2015-07-31</td>\n",
       "      <td>5263</td>\n",
       "      <td>1</td>\n",
       "      <td>regular_day</td>\n",
       "      <td>1</td>\n",
       "      <td>c</td>\n",
       "      <td>basic</td>\n",
       "      <td>-0.170968</td>\n",
       "      <td>...</td>\n",
       "      <td>0</td>\n",
       "      <td>1.0</td>\n",
       "      <td>7</td>\n",
       "      <td>31</td>\n",
       "      <td>31</td>\n",
       "      <td>2015-30</td>\n",
       "      <td>2008-09-01</td>\n",
       "      <td>0.918919</td>\n",
       "      <td>2015-07-27</td>\n",
       "      <td>0.287016</td>\n",
       "    </tr>\n",
       "    <tr>\n",
       "      <th>1</th>\n",
       "      <td>2</td>\n",
       "      <td>5</td>\n",
       "      <td>2015-07-31</td>\n",
       "      <td>6064</td>\n",
       "      <td>1</td>\n",
       "      <td>regular_day</td>\n",
       "      <td>1</td>\n",
       "      <td>a</td>\n",
       "      <td>basic</td>\n",
       "      <td>-0.283871</td>\n",
       "      <td>...</td>\n",
       "      <td>1</td>\n",
       "      <td>1.0</td>\n",
       "      <td>7</td>\n",
       "      <td>31</td>\n",
       "      <td>31</td>\n",
       "      <td>2015-30</td>\n",
       "      <td>2007-11-01</td>\n",
       "      <td>1.054054</td>\n",
       "      <td>2010-03-22</td>\n",
       "      <td>0.922551</td>\n",
       "    </tr>\n",
       "    <tr>\n",
       "      <th>2</th>\n",
       "      <td>3</td>\n",
       "      <td>5</td>\n",
       "      <td>2015-07-31</td>\n",
       "      <td>8314</td>\n",
       "      <td>1</td>\n",
       "      <td>regular_day</td>\n",
       "      <td>1</td>\n",
       "      <td>a</td>\n",
       "      <td>basic</td>\n",
       "      <td>1.903226</td>\n",
       "      <td>...</td>\n",
       "      <td>1</td>\n",
       "      <td>1.0</td>\n",
       "      <td>7</td>\n",
       "      <td>31</td>\n",
       "      <td>31</td>\n",
       "      <td>2015-30</td>\n",
       "      <td>2006-12-01</td>\n",
       "      <td>1.202703</td>\n",
       "      <td>2011-03-28</td>\n",
       "      <td>0.801822</td>\n",
       "    </tr>\n",
       "    <tr>\n",
       "      <th>3</th>\n",
       "      <td>4</td>\n",
       "      <td>5</td>\n",
       "      <td>2015-07-31</td>\n",
       "      <td>13995</td>\n",
       "      <td>1</td>\n",
       "      <td>regular_day</td>\n",
       "      <td>1</td>\n",
       "      <td>c</td>\n",
       "      <td>extended</td>\n",
       "      <td>-0.275806</td>\n",
       "      <td>...</td>\n",
       "      <td>0</td>\n",
       "      <td>1.0</td>\n",
       "      <td>7</td>\n",
       "      <td>31</td>\n",
       "      <td>31</td>\n",
       "      <td>2015-30</td>\n",
       "      <td>2009-09-01</td>\n",
       "      <td>0.743243</td>\n",
       "      <td>2015-07-27</td>\n",
       "      <td>0.287016</td>\n",
       "    </tr>\n",
       "    <tr>\n",
       "      <th>4</th>\n",
       "      <td>5</td>\n",
       "      <td>5</td>\n",
       "      <td>2015-07-31</td>\n",
       "      <td>4822</td>\n",
       "      <td>1</td>\n",
       "      <td>regular_day</td>\n",
       "      <td>1</td>\n",
       "      <td>a</td>\n",
       "      <td>basic</td>\n",
       "      <td>4.448387</td>\n",
       "      <td>...</td>\n",
       "      <td>0</td>\n",
       "      <td>1.0</td>\n",
       "      <td>7</td>\n",
       "      <td>31</td>\n",
       "      <td>31</td>\n",
       "      <td>2015-30</td>\n",
       "      <td>2015-04-01</td>\n",
       "      <td>-0.162162</td>\n",
       "      <td>2015-07-27</td>\n",
       "      <td>0.287016</td>\n",
       "    </tr>\n",
       "  </tbody>\n",
       "</table>\n",
       "<p>5 rows × 25 columns</p>\n",
       "</div>"
      ],
      "text/plain": [
       "   store  day_of_week       date  sales  promo state_holiday  school_holiday  \\\n",
       "0      1            5 2015-07-31   5263      1   regular_day               1   \n",
       "1      2            5 2015-07-31   6064      1   regular_day               1   \n",
       "2      3            5 2015-07-31   8314      1   regular_day               1   \n",
       "3      4            5 2015-07-31  13995      1   regular_day               1   \n",
       "4      5            5 2015-07-31   4822      1   regular_day               1   \n",
       "\n",
       "  store_type assortment  competition_distance  ...  is_promo  year  month  \\\n",
       "0          c      basic             -0.170968  ...         0   1.0      7   \n",
       "1          a      basic             -0.283871  ...         1   1.0      7   \n",
       "2          a      basic              1.903226  ...         1   1.0      7   \n",
       "3          c   extended             -0.275806  ...         0   1.0      7   \n",
       "4          a      basic              4.448387  ...         0   1.0      7   \n",
       "\n",
       "   day  week_of_year  year_week  competition_since  competition_time_month  \\\n",
       "0   31            31    2015-30         2008-09-01                0.918919   \n",
       "1   31            31    2015-30         2007-11-01                1.054054   \n",
       "2   31            31    2015-30         2006-12-01                1.202703   \n",
       "3   31            31    2015-30         2009-09-01                0.743243   \n",
       "4   31            31    2015-30         2015-04-01               -0.162162   \n",
       "\n",
       "   promo_since  promo_time_week  \n",
       "0   2015-07-27         0.287016  \n",
       "1   2010-03-22         0.922551  \n",
       "2   2011-03-28         0.801822  \n",
       "3   2015-07-27         0.287016  \n",
       "4   2015-07-27         0.287016  \n",
       "\n",
       "[5 rows x 25 columns]"
      ]
     },
     "execution_count": 87,
     "metadata": {},
     "output_type": "execute_result"
    }
   ],
   "source": [
    "df5.head()"
   ]
  },
  {
   "cell_type": "markdown",
   "id": "174905a0",
   "metadata": {
    "hidden": true
   },
   "source": [
    "## 5.3. Transformation"
   ]
  },
  {
   "cell_type": "markdown",
   "id": "d01c91ca",
   "metadata": {
    "hidden": true
   },
   "source": [
    "### 5.3.1. Encoding"
   ]
  },
  {
   "cell_type": "code",
   "execution_count": 88,
   "id": "7c609748",
   "metadata": {
    "ExecuteTime": {
     "end_time": "2022-03-01T14:09:17.375106Z",
     "start_time": "2022-03-01T14:09:09.677851Z"
    },
    "hidden": true
   },
   "outputs": [],
   "source": [
    "# state_holiday - type - One HoT Encoding \n",
    "df5 = pd.get_dummies(df5, prefix=['state_holiday'], columns=['state_holiday'] )\n",
    "\n",
    "\n",
    "\n",
    "# Store_type - Label_Encoding\n",
    "le = LabelEncoder()\n",
    "df5['store_type'] = le.fit_transform( df5['store_type'])\n",
    "pickle.dump( le, open('parameter/store_type_scaler.pw1', 'wb'))\n",
    "\n",
    "\n",
    "# assortment - \n",
    "assortment_dict = {'basic': 1, 'extra': 2, 'extended': 3}\n",
    "df5['assortment'] = df5['assortment'].map( assortment_dict )"
   ]
  },
  {
   "cell_type": "markdown",
   "id": "87e4c583",
   "metadata": {
    "hidden": true
   },
   "source": [
    "### 5.3.2. Response Variable Transforrmation"
   ]
  },
  {
   "cell_type": "code",
   "execution_count": 89,
   "id": "4234b1ea",
   "metadata": {
    "ExecuteTime": {
     "end_time": "2022-03-01T14:11:21.262090Z",
     "start_time": "2022-03-01T14:11:21.026760Z"
    },
    "hidden": true
   },
   "outputs": [],
   "source": [
    "df5['sales'] = np.log1p( df5['sales'] ) #--- Pesquisar Log1p"
   ]
  },
  {
   "cell_type": "markdown",
   "id": "09f6e272",
   "metadata": {
    "hidden": true
   },
   "source": [
    "### 5.3.3. Nature Transformation"
   ]
  },
  {
   "cell_type": "code",
   "execution_count": 101,
   "id": "e913371e",
   "metadata": {
    "ExecuteTime": {
     "end_time": "2022-03-01T14:38:46.010207Z",
     "start_time": "2022-03-01T14:38:39.659618Z"
    },
    "hidden": true
   },
   "outputs": [],
   "source": [
    "# day of week\n",
    "df5['day_of_week_sin'] = df5['day_of_week'].apply(lambda x: np.sin( x * ( 2. * np.pi/7 ) ) )\n",
    "df5['day_of_week_cos'] = df5['day_of_week'].apply(lambda x: np.cos( x * ( 2. * np.pi/7 ) ) )\n",
    "\n",
    "# month\n",
    "df5['month_sin']       = df5['month'].apply(lambda x: np.sin( x * ( 2. * np.pi/12 ) ) )\n",
    "df5['month_cos']       = df5['month'].apply(lambda x: np.cos( x * ( 2. * np.pi/12 ) ) )\n",
    "\n",
    "# Day\n",
    "df5['day_sin']         = df5['day'].apply(lambda x: np.sin( x * ( 2. * np.pi/30 ) ) )\n",
    "df5['day_cos']         = df5['day'].apply(lambda x: np.cos( x * ( 2. * np.pi/30 ) ) )\n",
    "\n",
    "# week of year\n",
    "df5['week_of_year_sin'] = df5['week_of_year'].apply(lambda x: np.sin( x * ( 2. * np.pi/52 ) ) )\n",
    "df5['week_of_year_cos'] = df5['week_of_year'].apply(lambda x: np.cos( x * ( 2. * np.pi/52 ) ) )\n"
   ]
  },
  {
   "cell_type": "markdown",
   "id": "589fa570",
   "metadata": {
    "heading_collapsed": true
   },
   "source": [
    "# 6.0. PASSO 6 - Feature selection"
   ]
  },
  {
   "cell_type": "code",
   "execution_count": 102,
   "id": "0f95e095",
   "metadata": {
    "ExecuteTime": {
     "end_time": "2022-03-01T14:38:56.172606Z",
     "start_time": "2022-03-01T14:38:46.011721Z"
    },
    "hidden": true
   },
   "outputs": [],
   "source": [
    "df6 = df5.copy()"
   ]
  },
  {
   "cell_type": "markdown",
   "id": "95a63815",
   "metadata": {
    "hidden": true
   },
   "source": [
    "## 6.1. Split dataframe into training and test dataset"
   ]
  },
  {
   "cell_type": "code",
   "execution_count": 103,
   "id": "917e80aa",
   "metadata": {
    "ExecuteTime": {
     "end_time": "2022-03-01T14:38:56.841084Z",
     "start_time": "2022-03-01T14:38:56.174170Z"
    },
    "hidden": true
   },
   "outputs": [],
   "source": [
    "cols_drop = ['week_of_year', 'day', 'month', 'day_of_week', 'promo_since', 'competition_since', 'year_week' ]\n",
    "df6 = df6.drop( cols_drop, axis=1 )"
   ]
  },
  {
   "cell_type": "code",
   "execution_count": 104,
   "id": "0122cf55",
   "metadata": {
    "ExecuteTime": {
     "end_time": "2022-03-01T14:39:00.426894Z",
     "start_time": "2022-03-01T14:39:00.088030Z"
    },
    "hidden": true
   },
   "outputs": [
    {
     "name": "stdout",
     "output_type": "stream",
     "text": [
      "Training Min Date: 2013-01-01 00:00:00\n",
      "Training Max Date: 2015-06-18 00:00:00\n",
      "\n",
      "Test Min Date: 2015-06-19 00:00:00\n",
      "Test Max Date: 2015-07-31 00:00:00\n"
     ]
    }
   ],
   "source": [
    "# training dataset\n",
    "X_train = df6[df6['date'] < '2015-06-19']\n",
    "y_train = X_train['sales']\n",
    "\n",
    "# test dataset\n",
    "X_test = df6[df6['date'] >= '2015-06-19']\n",
    "y_test = X_test['sales']\n",
    "\n",
    "print( 'Training Min Date: {}'.format( X_train['date'].min() ) )\n",
    "print( 'Training Max Date: {}'.format( X_train['date'].max() ) )\n",
    "\n",
    "print( '\\nTest Min Date: {}'.format( X_test['date'].min() ) )\n",
    "print( 'Test Max Date: {}'.format( X_test['date'].max() ) )"
   ]
  },
  {
   "cell_type": "markdown",
   "id": "3ebd2706",
   "metadata": {
    "hidden": true
   },
   "source": [
    "## 6.2. Boruta as Feature Selector"
   ]
  },
  {
   "cell_type": "code",
   "execution_count": 95,
   "id": "939e9308",
   "metadata": {
    "ExecuteTime": {
     "end_time": "2022-03-01T14:36:01.032369Z",
     "start_time": "2022-03-01T14:36:01.030270Z"
    },
    "hidden": true
   },
   "outputs": [],
   "source": [
    "## training and test dataset for Boruta\n",
    "#X_train_n = X_train.drop( ['date', 'sales'], axis=1 ).values\n",
    "#y_train_n = y_train.values.ravel()\n",
    "#\n",
    "## define RandomForestRegressor\n",
    "#rf = RandomForestRegressor( n_jobs=-1 )\n",
    "#\n",
    "## define Boruta\n",
    "#boruta = BorutaPy( rf, n_estimators='auto', verbose=2, random_state=42 ).fit( X_train_n, y_train_n )"
   ]
  },
  {
   "cell_type": "markdown",
   "id": "15140029",
   "metadata": {
    "hidden": true
   },
   "source": [
    "### 6.2.1 best features from Boruta"
   ]
  },
  {
   "cell_type": "code",
   "execution_count": 96,
   "id": "2351bdc9",
   "metadata": {
    "ExecuteTime": {
     "end_time": "2022-03-01T14:37:09.742539Z",
     "start_time": "2022-03-01T14:37:09.730928Z"
    },
    "hidden": true
   },
   "outputs": [],
   "source": [
    "#cols_selected = boruta.support_.tolist()\n",
    "#\n",
    "## best features\n",
    "#X_train_fs = X_train.drop( ['date', 'sales'], axis=1 )\n",
    "#cols_selected_boruta = X_train_fs.iloc[:, cols_selected].columns.to_list()\n",
    "#\n",
    "## not selected boruta\n",
    "#cols_not_selected_boruta = list( np.setdiff1d( X_train_fs.columns, cols_selected_boruta ) )"
   ]
  },
  {
   "cell_type": "markdown",
   "id": "d8d57db5",
   "metadata": {
    "hidden": true
   },
   "source": [
    "## 6.3. Manual Feature Selector"
   ]
  },
  {
   "cell_type": "code",
   "execution_count": 105,
   "id": "c6846c4f",
   "metadata": {
    "ExecuteTime": {
     "end_time": "2022-03-01T14:39:06.008971Z",
     "start_time": "2022-03-01T14:39:06.001124Z"
    },
    "hidden": true
   },
   "outputs": [],
   "source": [
    "cols_selected_boruta = [\n",
    "    'store',\n",
    "    'promo',\n",
    "    'store_type',\n",
    "    'assortment',\n",
    "    'competition_distance',\n",
    "    'competition_open_since_month',\n",
    "    'competition_open_since_year',\n",
    "    'promo2',\n",
    "    'promo2_since_week',\n",
    "    'promo2_since_year',\n",
    "    'competition_time_month',\n",
    "    'promo_time_week',\n",
    "    'day_of_week_sin',\n",
    "    'day_of_week_cos',\n",
    "    'month_sin',\n",
    "    'month_cos',\n",
    "    'day_sin',\n",
    "    'day_cos',\n",
    "    'week_of_year_sin',\n",
    "    'week_of_year_cos']\n",
    "\n",
    "# columns to add\n",
    "feat_to_add = ['date', 'sales']\n",
    "\n",
    "cols_selected_boruta_full = cols_selected_boruta.copy()\n",
    "cols_selected_boruta_full.extend( feat_to_add )"
   ]
  },
  {
   "cell_type": "markdown",
   "id": "c8c21483",
   "metadata": {
    "heading_collapsed": true
   },
   "source": [
    "# 7.0. PASSO 7 - Machine learning modelling"
   ]
  },
  {
   "cell_type": "code",
   "execution_count": 106,
   "id": "4558efbc",
   "metadata": {
    "ExecuteTime": {
     "end_time": "2022-03-01T14:39:15.016049Z",
     "start_time": "2022-03-01T14:39:08.862103Z"
    },
    "hidden": true
   },
   "outputs": [],
   "source": [
    "x_train = X_train[ cols_selected_boruta ]\n",
    "x_test = X_test[ cols_selected_boruta ]\n",
    "\n",
    "# Time Series Data Preparation\n",
    "x_training = X_train[ cols_selected_boruta_full ]"
   ]
  },
  {
   "cell_type": "markdown",
   "id": "f7c6096b",
   "metadata": {
    "hidden": true
   },
   "source": [
    "## 7.1. Avarage Model"
   ]
  },
  {
   "cell_type": "code",
   "execution_count": 112,
   "id": "3fa20e61",
   "metadata": {
    "ExecuteTime": {
     "end_time": "2022-03-01T14:46:57.841358Z",
     "start_time": "2022-03-01T14:46:57.237398Z"
    },
    "hidden": true
   },
   "outputs": [
    {
     "data": {
      "text/html": [
       "<div>\n",
       "<style scoped>\n",
       "    .dataframe tbody tr th:only-of-type {\n",
       "        vertical-align: middle;\n",
       "    }\n",
       "\n",
       "    .dataframe tbody tr th {\n",
       "        vertical-align: top;\n",
       "    }\n",
       "\n",
       "    .dataframe thead th {\n",
       "        text-align: right;\n",
       "    }\n",
       "</style>\n",
       "<table border=\"1\" class=\"dataframe\">\n",
       "  <thead>\n",
       "    <tr style=\"text-align: right;\">\n",
       "      <th></th>\n",
       "      <th>Model Name</th>\n",
       "      <th>MAE</th>\n",
       "      <th>MAPE</th>\n",
       "      <th>RMSE</th>\n",
       "    </tr>\n",
       "  </thead>\n",
       "  <tbody>\n",
       "    <tr>\n",
       "      <th>0</th>\n",
       "      <td>Average Model</td>\n",
       "      <td>1354.800353</td>\n",
       "      <td>0.455051</td>\n",
       "      <td>1835.135542</td>\n",
       "    </tr>\n",
       "  </tbody>\n",
       "</table>\n",
       "</div>"
      ],
      "text/plain": [
       "      Model Name          MAE      MAPE         RMSE\n",
       "0  Average Model  1354.800353  0.455051  1835.135542"
      ]
     },
     "execution_count": 112,
     "metadata": {},
     "output_type": "execute_result"
    }
   ],
   "source": [
    "aux1 = x_test.copy()\n",
    "aux1['sales'] = y_test.copy()\n",
    "\n",
    "# prediction\n",
    "aux2 = aux1[['store', 'sales']].groupby( 'store' ).mean().reset_index().rename( columns={'sales': 'predictions'} )\n",
    "aux1 = pd.merge( aux1, aux2, how='left', on='store' )\n",
    "yhat_baseline = aux1['predictions']\n",
    "\n",
    "# performance\n",
    "baseline_result = ml_error( 'Average Model', np.expm1( y_test ), np.expm1( yhat_baseline ) )\n",
    "baseline_result"
   ]
  },
  {
   "cell_type": "markdown",
   "id": "b6fc0684",
   "metadata": {
    "hidden": true
   },
   "source": [
    "## 7.2. Linear Regression Model"
   ]
  },
  {
   "cell_type": "code",
   "execution_count": 115,
   "id": "cb07b4d8",
   "metadata": {
    "ExecuteTime": {
     "end_time": "2022-03-01T14:50:32.543710Z",
     "start_time": "2022-03-01T14:50:24.302640Z"
    },
    "hidden": true
   },
   "outputs": [
    {
     "data": {
      "text/html": [
       "<div>\n",
       "<style scoped>\n",
       "    .dataframe tbody tr th:only-of-type {\n",
       "        vertical-align: middle;\n",
       "    }\n",
       "\n",
       "    .dataframe tbody tr th {\n",
       "        vertical-align: top;\n",
       "    }\n",
       "\n",
       "    .dataframe thead th {\n",
       "        text-align: right;\n",
       "    }\n",
       "</style>\n",
       "<table border=\"1\" class=\"dataframe\">\n",
       "  <thead>\n",
       "    <tr style=\"text-align: right;\">\n",
       "      <th></th>\n",
       "      <th>Model Name</th>\n",
       "      <th>MAE</th>\n",
       "      <th>MAPE</th>\n",
       "      <th>RMSE</th>\n",
       "    </tr>\n",
       "  </thead>\n",
       "  <tbody>\n",
       "    <tr>\n",
       "      <th>0</th>\n",
       "      <td>Linear Regression</td>\n",
       "      <td>1867.089774</td>\n",
       "      <td>0.292694</td>\n",
       "      <td>2671.049215</td>\n",
       "    </tr>\n",
       "  </tbody>\n",
       "</table>\n",
       "</div>"
      ],
      "text/plain": [
       "          Model Name          MAE      MAPE         RMSE\n",
       "0  Linear Regression  1867.089774  0.292694  2671.049215"
      ]
     },
     "execution_count": 115,
     "metadata": {},
     "output_type": "execute_result"
    }
   ],
   "source": [
    "# model\n",
    "lr = LinearRegression().fit( x_train, y_train )\n",
    "\n",
    "# prediction\n",
    "yhat_lr = lr.predict( x_test )\n",
    "\n",
    "# performance\n",
    "lr_result = ml_error( 'Linear Regression', np.expm1( y_test ), np.expm1( yhat_lr ) )\n",
    "lr_result"
   ]
  },
  {
   "cell_type": "markdown",
   "id": "ec43661f",
   "metadata": {
    "hidden": true
   },
   "source": [
    "### 7.2.1. Linear Regression Model - Cross validation"
   ]
  },
  {
   "cell_type": "code",
   "execution_count": 116,
   "id": "21fa5c1c",
   "metadata": {
    "ExecuteTime": {
     "end_time": "2022-03-01T14:51:47.551346Z",
     "start_time": "2022-03-01T14:51:34.689319Z"
    },
    "hidden": true
   },
   "outputs": [
    {
     "data": {
      "text/html": [
       "<div>\n",
       "<style scoped>\n",
       "    .dataframe tbody tr th:only-of-type {\n",
       "        vertical-align: middle;\n",
       "    }\n",
       "\n",
       "    .dataframe tbody tr th {\n",
       "        vertical-align: top;\n",
       "    }\n",
       "\n",
       "    .dataframe thead th {\n",
       "        text-align: right;\n",
       "    }\n",
       "</style>\n",
       "<table border=\"1\" class=\"dataframe\">\n",
       "  <thead>\n",
       "    <tr style=\"text-align: right;\">\n",
       "      <th></th>\n",
       "      <th>Model Name</th>\n",
       "      <th>MAE CV</th>\n",
       "      <th>MAPE CV</th>\n",
       "      <th>RMSE CV</th>\n",
       "    </tr>\n",
       "  </thead>\n",
       "  <tbody>\n",
       "    <tr>\n",
       "      <th>0</th>\n",
       "      <td>Linear Regression</td>\n",
       "      <td>2081.73 +/- 295.63</td>\n",
       "      <td>0.3 +/- 0.02</td>\n",
       "      <td>2952.52 +/- 468.37</td>\n",
       "    </tr>\n",
       "  </tbody>\n",
       "</table>\n",
       "</div>"
      ],
      "text/plain": [
       "          Model Name              MAE CV       MAPE CV             RMSE CV\n",
       "0  Linear Regression  2081.73 +/- 295.63  0.3 +/- 0.02  2952.52 +/- 468.37"
      ]
     },
     "execution_count": 116,
     "metadata": {},
     "output_type": "execute_result"
    }
   ],
   "source": [
    "lr_result_cv = cross_validation( x_training, 5, 'Linear Regression', lr, verbose=False )\n",
    "lr_result_cv"
   ]
  },
  {
   "cell_type": "markdown",
   "id": "4489e34b",
   "metadata": {
    "hidden": true
   },
   "source": [
    "## 7.3. Linear Regression Regularized Model - Lasso"
   ]
  },
  {
   "cell_type": "code",
   "execution_count": 117,
   "id": "cace1224",
   "metadata": {
    "ExecuteTime": {
     "end_time": "2022-03-01T14:52:45.852007Z",
     "start_time": "2022-03-01T14:52:44.927223Z"
    },
    "hidden": true
   },
   "outputs": [
    {
     "data": {
      "text/html": [
       "<div>\n",
       "<style scoped>\n",
       "    .dataframe tbody tr th:only-of-type {\n",
       "        vertical-align: middle;\n",
       "    }\n",
       "\n",
       "    .dataframe tbody tr th {\n",
       "        vertical-align: top;\n",
       "    }\n",
       "\n",
       "    .dataframe thead th {\n",
       "        text-align: right;\n",
       "    }\n",
       "</style>\n",
       "<table border=\"1\" class=\"dataframe\">\n",
       "  <thead>\n",
       "    <tr style=\"text-align: right;\">\n",
       "      <th></th>\n",
       "      <th>Model Name</th>\n",
       "      <th>MAE</th>\n",
       "      <th>MAPE</th>\n",
       "      <th>RMSE</th>\n",
       "    </tr>\n",
       "  </thead>\n",
       "  <tbody>\n",
       "    <tr>\n",
       "      <th>0</th>\n",
       "      <td>Linear Regression - Lasso</td>\n",
       "      <td>1891.704881</td>\n",
       "      <td>0.289106</td>\n",
       "      <td>2744.451737</td>\n",
       "    </tr>\n",
       "  </tbody>\n",
       "</table>\n",
       "</div>"
      ],
      "text/plain": [
       "                  Model Name          MAE      MAPE         RMSE\n",
       "0  Linear Regression - Lasso  1891.704881  0.289106  2744.451737"
      ]
     },
     "execution_count": 117,
     "metadata": {},
     "output_type": "execute_result"
    }
   ],
   "source": [
    "# model\n",
    "lrr = Lasso( alpha=0.01 ).fit( x_train, y_train )\n",
    "\n",
    "# prediction\n",
    "yhat_lrr = lrr.predict( x_test )\n",
    "\n",
    "# performance\n",
    "lrr_result = ml_error( 'Linear Regression - Lasso', np.expm1( y_test ), np.expm1( yhat_lrr ) )\n",
    "lrr_result"
   ]
  },
  {
   "cell_type": "markdown",
   "id": "9b7aef14",
   "metadata": {
    "hidden": true
   },
   "source": [
    "### 7.3.1. Lasso - Cross validation"
   ]
  },
  {
   "cell_type": "code",
   "execution_count": 118,
   "id": "3778101f",
   "metadata": {
    "ExecuteTime": {
     "end_time": "2022-03-01T14:53:40.835824Z",
     "start_time": "2022-03-01T14:53:35.663979Z"
    },
    "hidden": true
   },
   "outputs": [
    {
     "data": {
      "text/html": [
       "<div>\n",
       "<style scoped>\n",
       "    .dataframe tbody tr th:only-of-type {\n",
       "        vertical-align: middle;\n",
       "    }\n",
       "\n",
       "    .dataframe tbody tr th {\n",
       "        vertical-align: top;\n",
       "    }\n",
       "\n",
       "    .dataframe thead th {\n",
       "        text-align: right;\n",
       "    }\n",
       "</style>\n",
       "<table border=\"1\" class=\"dataframe\">\n",
       "  <thead>\n",
       "    <tr style=\"text-align: right;\">\n",
       "      <th></th>\n",
       "      <th>Model Name</th>\n",
       "      <th>MAE CV</th>\n",
       "      <th>MAPE CV</th>\n",
       "      <th>RMSE CV</th>\n",
       "    </tr>\n",
       "  </thead>\n",
       "  <tbody>\n",
       "    <tr>\n",
       "      <th>0</th>\n",
       "      <td>Lasso</td>\n",
       "      <td>2116.38 +/- 341.5</td>\n",
       "      <td>0.29 +/- 0.01</td>\n",
       "      <td>3057.75 +/- 504.26</td>\n",
       "    </tr>\n",
       "  </tbody>\n",
       "</table>\n",
       "</div>"
      ],
      "text/plain": [
       "  Model Name             MAE CV        MAPE CV             RMSE CV\n",
       "0      Lasso  2116.38 +/- 341.5  0.29 +/- 0.01  3057.75 +/- 504.26"
      ]
     },
     "execution_count": 118,
     "metadata": {},
     "output_type": "execute_result"
    }
   ],
   "source": [
    "lrr_result_cv = cross_validation( x_training, 5, 'Lasso', lrr, verbose=False )\n",
    "lrr_result_cv\n"
   ]
  },
  {
   "cell_type": "markdown",
   "id": "f2164d8b",
   "metadata": {
    "hidden": true
   },
   "source": [
    "## 7.4. Random Forest Regressor"
   ]
  },
  {
   "cell_type": "code",
   "execution_count": null,
   "id": "8110d253",
   "metadata": {
    "hidden": true
   },
   "outputs": [],
   "source": [
    "# model\n",
    "rf = RandomForestRegressor( n_estimators=100, n_jobs=-1, random_state=42 ).fit( x_train, y_train )\n",
    "\n",
    "# prediction\n",
    "yhat_rf = rf.predict( x_test )\n",
    "\n",
    "# performance\n",
    "rf_result = ml_error( 'Random Forest Regressor', np.expm1( y_test ), np.expm1( yhat_rf ) )\n",
    "rf_result"
   ]
  },
  {
   "cell_type": "markdown",
   "id": "f6fc1c19",
   "metadata": {
    "hidden": true
   },
   "source": [
    "### 7.4.1 Random Forest Regressor - Cross Validation"
   ]
  },
  {
   "cell_type": "code",
   "execution_count": null,
   "id": "03daed06",
   "metadata": {
    "hidden": true
   },
   "outputs": [],
   "source": [
    "rf_result_cv = cross_validation( x_training, 5, 'Random Forest Regressor', rf, verbose=True )\n",
    "rf_result_cv"
   ]
  },
  {
   "cell_type": "markdown",
   "id": "563fae7d",
   "metadata": {
    "hidden": true
   },
   "source": [
    "## 7.5. XBoost Regressor"
   ]
  },
  {
   "cell_type": "code",
   "execution_count": 122,
   "id": "bb2c1aea",
   "metadata": {
    "ExecuteTime": {
     "end_time": "2022-03-01T15:03:39.378153Z",
     "start_time": "2022-03-01T14:59:36.751972Z"
    },
    "hidden": true
   },
   "outputs": [
    {
     "data": {
      "text/html": [
       "<div>\n",
       "<style scoped>\n",
       "    .dataframe tbody tr th:only-of-type {\n",
       "        vertical-align: middle;\n",
       "    }\n",
       "\n",
       "    .dataframe tbody tr th {\n",
       "        vertical-align: top;\n",
       "    }\n",
       "\n",
       "    .dataframe thead th {\n",
       "        text-align: right;\n",
       "    }\n",
       "</style>\n",
       "<table border=\"1\" class=\"dataframe\">\n",
       "  <thead>\n",
       "    <tr style=\"text-align: right;\">\n",
       "      <th></th>\n",
       "      <th>Model Name</th>\n",
       "      <th>MAE</th>\n",
       "      <th>MAPE</th>\n",
       "      <th>RMSE</th>\n",
       "    </tr>\n",
       "  </thead>\n",
       "  <tbody>\n",
       "    <tr>\n",
       "      <th>0</th>\n",
       "      <td>XGBoost Regressor</td>\n",
       "      <td>843.112293</td>\n",
       "      <td>0.122609</td>\n",
       "      <td>1250.952637</td>\n",
       "    </tr>\n",
       "  </tbody>\n",
       "</table>\n",
       "</div>"
      ],
      "text/plain": [
       "          Model Name         MAE      MAPE         RMSE\n",
       "0  XGBoost Regressor  843.112293  0.122609  1250.952637"
      ]
     },
     "execution_count": 122,
     "metadata": {},
     "output_type": "execute_result"
    }
   ],
   "source": [
    "# model\n",
    "model_xgb = xgb.XGBRegressor( objective='reg:squarederror',\n",
    "                              n_estimators=100, \n",
    "                              eta=0.01, \n",
    "                              max_depth=10, \n",
    "                              subsample=0.7,\n",
    "                              colsample_bytee=0.9 ).fit( x_train, y_train )\n",
    "\n",
    "# prediction\n",
    "yhat_xgb = model_xgb.predict( x_test )\n",
    "\n",
    "# performance\n",
    "xgb_result = ml_error( 'XGBoost Regressor', np.expm1( y_test ), np.expm1( yhat_xgb ) )\n",
    "xgb_result"
   ]
  },
  {
   "cell_type": "markdown",
   "id": "52380758",
   "metadata": {
    "hidden": true
   },
   "source": [
    "### 7.5.1. XBoost Regressor - Cross Validation"
   ]
  },
  {
   "cell_type": "code",
   "execution_count": null,
   "id": "81bde451",
   "metadata": {
    "hidden": true
   },
   "outputs": [],
   "source": [
    "xgb_result_cv = cross_validation( x_training, 5, 'XGBoost Regressor', model_xgb, verbose=True )\n",
    "xgb_result_cv"
   ]
  },
  {
   "cell_type": "markdown",
   "id": "03e123de",
   "metadata": {
    "hidden": true
   },
   "source": [
    "## 7.6. Compare Model's Performance"
   ]
  },
  {
   "cell_type": "markdown",
   "id": "e7310204",
   "metadata": {
    "ExecuteTime": {
     "end_time": "2022-03-01T15:19:22.235436Z",
     "start_time": "2022-03-01T15:19:22.191726Z"
    },
    "hidden": true
   },
   "source": [
    "### 7.6.1. Single Performance"
   ]
  },
  {
   "cell_type": "code",
   "execution_count": null,
   "id": "b3290f72",
   "metadata": {
    "hidden": true
   },
   "outputs": [],
   "source": [
    "modelling_result = pd.concat( [baseline_result, lr_result, lrr_result, rf_result, xgb_result] )\n",
    "modelling_result.sort_values( 'RMSE' )"
   ]
  },
  {
   "cell_type": "code",
   "execution_count": null,
   "id": "4cf9bdc0",
   "metadata": {
    "hidden": true
   },
   "outputs": [],
   "source": [
    "### 7.6.2. Real Performance - Cross Validation"
   ]
  },
  {
   "cell_type": "code",
   "execution_count": null,
   "id": "ad008206",
   "metadata": {
    "hidden": true
   },
   "outputs": [],
   "source": [
    "modelling_result_cv = pd.concat( [lr_result_cv, lrr_result_cv, rf_result_cv, xgb_result_cv] )\n",
    "modelling_result_cv"
   ]
  },
  {
   "cell_type": "markdown",
   "id": "304c5e75",
   "metadata": {
    "heading_collapsed": true
   },
   "source": [
    "# 8.0. PASSO 8 - Hiperparameter fine tuning "
   ]
  },
  {
   "cell_type": "markdown",
   "id": "c8b5d01b",
   "metadata": {
    "hidden": true
   },
   "source": [
    "## 8.1. Random Search"
   ]
  },
  {
   "cell_type": "code",
   "execution_count": 125,
   "id": "4e1bcc7e",
   "metadata": {
    "ExecuteTime": {
     "end_time": "2022-03-01T15:21:52.160939Z",
     "start_time": "2022-03-01T15:21:52.154152Z"
    },
    "hidden": true
   },
   "outputs": [],
   "source": [
    "#param = {\n",
    "#    'n_estimators': [1500, 1700, 2500, 3000, 3500],\n",
    "#    'eta': [0.01, 0.03],\n",
    "#    'max_depth': [3, 5, 9],\n",
    "#    'subsample': [0.1, 0.5, 0.7],\n",
    "#    'colsample_bytree': [0.3, 0.7, 0.9],\n",
    "#    'min_child_weight': [3, 8, 15]\n",
    "#        }\n",
    "#\n",
    "#MAX_EVAL = 5"
   ]
  },
  {
   "cell_type": "code",
   "execution_count": 124,
   "id": "887281ca",
   "metadata": {
    "ExecuteTime": {
     "end_time": "2022-03-01T15:21:49.791951Z",
     "start_time": "2022-03-01T15:21:49.786180Z"
    },
    "hidden": true
   },
   "outputs": [],
   "source": [
    "#final_result = pd.DataFrame()\n",
    "#\n",
    "#for i in range( MAX_EVAL ):\n",
    "#    # choose values for parameters randomly\n",
    "#    hp = { k: random.sample( v, 1 )[0] for k, v in param.items() }\n",
    "#    print( hp )\n",
    "#    \n",
    "#    # model\n",
    "#    model_xgb = xgb.XGBRegressor( objective='reg:squarederror',\n",
    "#                                  n_estimators=hp['n_estimators'], \n",
    "#                                  eta=hp['eta'], \n",
    "#                                  max_depth=hp['max_depth'], \n",
    "#                                  subsample=hp['subsample'],\n",
    "#                                  colsample_bytee=hp['colsample_bytree'],\n",
    "#                                  min_child_weight=hp['min_child_weight'] )\n",
    "#\n",
    "#    # performance\n",
    "#    result = cross_validation( x_training, 5, 'XGBoost Regressor', model_xgb, verbose=True )\n",
    "#    final_result = pd.concat( [final_result, result] )\n",
    "#        \n",
    "#final_result"
   ]
  },
  {
   "cell_type": "markdown",
   "id": "6c64760f",
   "metadata": {
    "hidden": true
   },
   "source": [
    "### 8.2. Final Model"
   ]
  },
  {
   "cell_type": "code",
   "execution_count": 126,
   "id": "1cefe87e",
   "metadata": {
    "ExecuteTime": {
     "end_time": "2022-03-01T15:24:16.083394Z",
     "start_time": "2022-03-01T15:24:16.046267Z"
    },
    "hidden": true
   },
   "outputs": [],
   "source": [
    "param_tuned = {\n",
    "    'n_estimators': 3000,\n",
    "    'eta': 0.03,\n",
    "    'max_depth': 5,\n",
    "    'subsample': 0.7,\n",
    "    'colsample_bytree': 0.7,\n",
    "    'min_child_weight': 3 \n",
    "        }"
   ]
  },
  {
   "cell_type": "code",
   "execution_count": 127,
   "id": "043d5982",
   "metadata": {
    "ExecuteTime": {
     "end_time": "2022-03-01T16:19:28.837388Z",
     "start_time": "2022-03-01T15:26:24.997721Z"
    },
    "hidden": true
   },
   "outputs": [
    {
     "data": {
      "text/html": [
       "<div>\n",
       "<style scoped>\n",
       "    .dataframe tbody tr th:only-of-type {\n",
       "        vertical-align: middle;\n",
       "    }\n",
       "\n",
       "    .dataframe tbody tr th {\n",
       "        vertical-align: top;\n",
       "    }\n",
       "\n",
       "    .dataframe thead th {\n",
       "        text-align: right;\n",
       "    }\n",
       "</style>\n",
       "<table border=\"1\" class=\"dataframe\">\n",
       "  <thead>\n",
       "    <tr style=\"text-align: right;\">\n",
       "      <th></th>\n",
       "      <th>Model Name</th>\n",
       "      <th>MAE</th>\n",
       "      <th>MAPE</th>\n",
       "      <th>RMSE</th>\n",
       "    </tr>\n",
       "  </thead>\n",
       "  <tbody>\n",
       "    <tr>\n",
       "      <th>0</th>\n",
       "      <td>XGBoost Regressor</td>\n",
       "      <td>664.974997</td>\n",
       "      <td>0.097529</td>\n",
       "      <td>957.774225</td>\n",
       "    </tr>\n",
       "  </tbody>\n",
       "</table>\n",
       "</div>"
      ],
      "text/plain": [
       "          Model Name         MAE      MAPE        RMSE\n",
       "0  XGBoost Regressor  664.974997  0.097529  957.774225"
      ]
     },
     "execution_count": 127,
     "metadata": {},
     "output_type": "execute_result"
    }
   ],
   "source": [
    "# model\n",
    "model_xgb_tuned = xgb.XGBRegressor( objective='reg:squarederror',\n",
    "                                    n_estimators=param_tuned['n_estimators'], \n",
    "                                    eta=param_tuned['eta'], \n",
    "                                    max_depth=param_tuned['max_depth'], \n",
    "                                    subsample=param_tuned['subsample'],\n",
    "                                    colsample_bytee=param_tuned['colsample_bytree'],\n",
    "                                    min_child_weight=param_tuned['min_child_weight'] ).fit( x_train, y_train )\n",
    "\n",
    "# prediction\n",
    "yhat_xgb_tuned = model_xgb_tuned.predict( x_test )\n",
    "\n",
    "# performance\n",
    "xgb_result_tuned = ml_error( 'XGBoost Regressor', np.expm1( y_test ), np.expm1( yhat_xgb_tuned ) )\n",
    "xgb_result_tuned"
   ]
  },
  {
   "cell_type": "code",
   "execution_count": 131,
   "id": "7dabc431",
   "metadata": {
    "ExecuteTime": {
     "end_time": "2022-03-01T16:21:37.298589Z",
     "start_time": "2022-03-01T16:21:37.289213Z"
    },
    "hidden": true
   },
   "outputs": [
    {
     "data": {
      "text/plain": [
       "-0.0035453340418880653"
      ]
     },
     "execution_count": 131,
     "metadata": {},
     "output_type": "execute_result"
    }
   ],
   "source": [
    "mpe = mean_percentage_error( np.expm1( y_test ), np.expm1( yhat_xgb_tuned ) )\n",
    "mpe"
   ]
  },
  {
   "cell_type": "markdown",
   "id": "3ebc3c4d",
   "metadata": {
    "heading_collapsed": true
   },
   "source": [
    "# 9.0. PASSO 9 - Tradução e interpretação do erro"
   ]
  },
  {
   "cell_type": "code",
   "execution_count": 132,
   "id": "f84b479c",
   "metadata": {
    "ExecuteTime": {
     "end_time": "2022-03-01T16:21:58.335480Z",
     "start_time": "2022-03-01T16:21:55.824004Z"
    },
    "hidden": true
   },
   "outputs": [],
   "source": [
    "df9 = X_test[ cols_selected_boruta_full ]\n",
    "\n",
    "# Rescale\n",
    "df9[ 'sales'] = np.expm1(df9['sales'] )\n",
    "df9[ 'predictions' ] = np.expm1( yhat_xgb_tuned )"
   ]
  },
  {
   "cell_type": "markdown",
   "id": "fd4a7fec",
   "metadata": {
    "hidden": true
   },
   "source": [
    "## 9.1. Business Performance"
   ]
  },
  {
   "cell_type": "code",
   "execution_count": 133,
   "id": "c2673468",
   "metadata": {
    "ExecuteTime": {
     "end_time": "2022-03-01T16:22:10.222043Z",
     "start_time": "2022-03-01T16:22:08.906676Z"
    },
    "hidden": true
   },
   "outputs": [],
   "source": [
    "# Sum of predictions\n",
    "df91 = df9[[ 'store', 'predictions']].groupby( 'store').sum().reset_index()\n",
    "\n",
    "# MAE e MAPE\n",
    "df9_aux1 = df9[[ 'store', 'sales', 'predictions' ]].groupby( 'store' ).apply( lambda x: mean_absolute_error( x['sales'], x['predictions'] ) ).reset_index().rename( columns={0:'MAE' } )  \n",
    "df9_aux2 = df9[[ 'store', 'sales', 'predictions' ]].groupby( 'store' ).apply( lambda x: mean_absolute_percentage_error( x['sales'], x['predictions'] ) ).reset_index().rename( columns={0:'MAPE'} )\n",
    "\n",
    "# Merge MAE e MAPE\n",
    "df9_aux3 = pd.merge( df9_aux1, df9_aux2, how='inner', on='store')\n",
    "df92 = pd.merge( df91, df9_aux3, how='inner', on='store')\n",
    "\n",
    "# Scenarios\n",
    "df92['worst_scenarios'] = df92['predictions'] - df92['MAE'] # Predicao do pior cenario\n",
    "df92['best_scenarios' ] = df92['predictions'] + df92['MAE'] # Predicao do melhor cenario\n",
    "\n",
    "# ordem columns\n",
    "df92 = df92[[ 'store', 'predictions', 'worst_scenarios', 'best_scenarios', 'MAE', 'MAPE' ]] # Ordenacao das colunas\n"
   ]
  },
  {
   "cell_type": "code",
   "execution_count": 134,
   "id": "e1f12d3b",
   "metadata": {
    "ExecuteTime": {
     "end_time": "2022-03-01T16:22:21.385559Z",
     "start_time": "2022-03-01T16:22:21.371218Z"
    },
    "hidden": true
   },
   "outputs": [
    {
     "data": {
      "text/html": [
       "<div>\n",
       "<style scoped>\n",
       "    .dataframe tbody tr th:only-of-type {\n",
       "        vertical-align: middle;\n",
       "    }\n",
       "\n",
       "    .dataframe tbody tr th {\n",
       "        vertical-align: top;\n",
       "    }\n",
       "\n",
       "    .dataframe thead th {\n",
       "        text-align: right;\n",
       "    }\n",
       "</style>\n",
       "<table border=\"1\" class=\"dataframe\">\n",
       "  <thead>\n",
       "    <tr style=\"text-align: right;\">\n",
       "      <th></th>\n",
       "      <th>store</th>\n",
       "      <th>predictions</th>\n",
       "      <th>worst_scenarios</th>\n",
       "      <th>best_scenarios</th>\n",
       "      <th>MAE</th>\n",
       "      <th>MAPE</th>\n",
       "    </tr>\n",
       "  </thead>\n",
       "  <tbody>\n",
       "    <tr>\n",
       "      <th>291</th>\n",
       "      <td>292</td>\n",
       "      <td>104033.085938</td>\n",
       "      <td>100714.981535</td>\n",
       "      <td>107351.190340</td>\n",
       "      <td>3318.104402</td>\n",
       "      <td>0.565828</td>\n",
       "    </tr>\n",
       "    <tr>\n",
       "      <th>908</th>\n",
       "      <td>909</td>\n",
       "      <td>238233.875000</td>\n",
       "      <td>230573.337254</td>\n",
       "      <td>245894.412746</td>\n",
       "      <td>7660.537746</td>\n",
       "      <td>0.520433</td>\n",
       "    </tr>\n",
       "    <tr>\n",
       "      <th>875</th>\n",
       "      <td>876</td>\n",
       "      <td>203030.156250</td>\n",
       "      <td>199110.952414</td>\n",
       "      <td>206949.360086</td>\n",
       "      <td>3919.203836</td>\n",
       "      <td>0.305099</td>\n",
       "    </tr>\n",
       "    <tr>\n",
       "      <th>721</th>\n",
       "      <td>722</td>\n",
       "      <td>353005.781250</td>\n",
       "      <td>351013.625119</td>\n",
       "      <td>354997.937381</td>\n",
       "      <td>1992.156131</td>\n",
       "      <td>0.268338</td>\n",
       "    </tr>\n",
       "    <tr>\n",
       "      <th>594</th>\n",
       "      <td>595</td>\n",
       "      <td>400883.625000</td>\n",
       "      <td>397415.263170</td>\n",
       "      <td>404351.986830</td>\n",
       "      <td>3468.361830</td>\n",
       "      <td>0.242192</td>\n",
       "    </tr>\n",
       "  </tbody>\n",
       "</table>\n",
       "</div>"
      ],
      "text/plain": [
       "     store    predictions  worst_scenarios  best_scenarios          MAE  \\\n",
       "291    292  104033.085938    100714.981535   107351.190340  3318.104402   \n",
       "908    909  238233.875000    230573.337254   245894.412746  7660.537746   \n",
       "875    876  203030.156250    199110.952414   206949.360086  3919.203836   \n",
       "721    722  353005.781250    351013.625119   354997.937381  1992.156131   \n",
       "594    595  400883.625000    397415.263170   404351.986830  3468.361830   \n",
       "\n",
       "         MAPE  \n",
       "291  0.565828  \n",
       "908  0.520433  \n",
       "875  0.305099  \n",
       "721  0.268338  \n",
       "594  0.242192  "
      ]
     },
     "execution_count": 134,
     "metadata": {},
     "output_type": "execute_result"
    }
   ],
   "source": [
    "df92.sort_values( 'MAPE', ascending=False ).head()"
   ]
  },
  {
   "cell_type": "code",
   "execution_count": 135,
   "id": "dfd06f91",
   "metadata": {
    "ExecuteTime": {
     "end_time": "2022-03-01T16:23:05.769794Z",
     "start_time": "2022-03-01T16:23:03.589850Z"
    },
    "hidden": true
   },
   "outputs": [
    {
     "data": {
      "text/plain": [
       "<AxesSubplot:xlabel='store', ylabel='MAPE'>"
      ]
     },
     "execution_count": 135,
     "metadata": {},
     "output_type": "execute_result"
    },
    {
     "data": {
      "image/png": "[encoded data removed]",
      "text/plain": [
       "<Figure size 1800x864 with 1 Axes>"
      ]
     },
     "metadata": {},
     "output_type": "display_data"
    }
   ],
   "source": [
    "sns.scatterplot( x='store', y='MAPE', data=df92) # Visualizacao das lojas com MAPE mais alto e mais baixo"
   ]
  },
  {
   "cell_type": "markdown",
   "id": "22344291",
   "metadata": {
    "hidden": true
   },
   "source": [
    "## 9.2. Total Performance"
   ]
  },
  {
   "cell_type": "code",
   "execution_count": 137,
   "id": "6e77b387",
   "metadata": {
    "ExecuteTime": {
     "end_time": "2022-03-01T16:23:26.196927Z",
     "start_time": "2022-03-01T16:23:26.129797Z"
    },
    "hidden": true
   },
   "outputs": [
    {
     "data": {
      "text/html": [
       "<div>\n",
       "<style scoped>\n",
       "    .dataframe tbody tr th:only-of-type {\n",
       "        vertical-align: middle;\n",
       "    }\n",
       "\n",
       "    .dataframe tbody tr th {\n",
       "        vertical-align: top;\n",
       "    }\n",
       "\n",
       "    .dataframe thead th {\n",
       "        text-align: right;\n",
       "    }\n",
       "</style>\n",
       "<table border=\"1\" class=\"dataframe\">\n",
       "  <thead>\n",
       "    <tr style=\"text-align: right;\">\n",
       "      <th></th>\n",
       "      <th>Scenarios</th>\n",
       "      <th>Values</th>\n",
       "    </tr>\n",
       "  </thead>\n",
       "  <tbody>\n",
       "    <tr>\n",
       "      <th>0</th>\n",
       "      <td>predictions</td>\n",
       "      <td>R$ 285,860,480.00</td>\n",
       "    </tr>\n",
       "    <tr>\n",
       "      <th>1</th>\n",
       "      <td>worst_scenarios</td>\n",
       "      <td>R$ 285,115,015.78</td>\n",
       "    </tr>\n",
       "    <tr>\n",
       "      <th>2</th>\n",
       "      <td>best_scenarios</td>\n",
       "      <td>R$ 286,605,979.91</td>\n",
       "    </tr>\n",
       "  </tbody>\n",
       "</table>\n",
       "</div>"
      ],
      "text/plain": [
       "         Scenarios             Values\n",
       "0      predictions  R$ 285,860,480.00\n",
       "1  worst_scenarios  R$ 285,115,015.78\n",
       "2   best_scenarios  R$ 286,605,979.91"
      ]
     },
     "execution_count": 137,
     "metadata": {},
     "output_type": "execute_result"
    }
   ],
   "source": [
    "# forma de mostrar o valor real - \n",
    "df93 = df92[[ 'predictions', 'worst_scenarios', 'best_scenarios']].apply( lambda x: np.sum( x ), axis=0 ).reset_index().rename( columns={'index': 'Scenarios', 0: 'Values' } )\n",
    "df93[ 'Values'] = df93[ 'Values' ].map( 'R$ {:,.2f}'.format )\n",
    "df93.head()"
   ]
  },
  {
   "cell_type": "markdown",
   "id": "00659bec",
   "metadata": {
    "hidden": true
   },
   "source": [
    "## 9.3. Machine Learning"
   ]
  },
  {
   "cell_type": "code",
   "execution_count": 138,
   "id": "7f70b07d",
   "metadata": {
    "ExecuteTime": {
     "end_time": "2022-03-01T16:23:59.182530Z",
     "start_time": "2022-03-01T16:23:59.160381Z"
    },
    "hidden": true
   },
   "outputs": [],
   "source": [
    "# Visualizando a performance do modelo\n",
    "\n",
    "df9['error'] = df9['sales'] - df9['predictions']\n",
    "df9['error_rate'] = df9['predictions'] / df9['sales']"
   ]
  },
  {
   "cell_type": "code",
   "execution_count": 139,
   "id": "4e042374",
   "metadata": {
    "ExecuteTime": {
     "end_time": "2022-03-01T16:24:14.480489Z",
     "start_time": "2022-03-01T16:24:07.845981Z"
    },
    "hidden": true
   },
   "outputs": [
    {
     "data": {
      "text/plain": [
       "<AxesSubplot:xlabel='predictions', ylabel='error'>"
      ]
     },
     "execution_count": 139,
     "metadata": {},
     "output_type": "execute_result"
    },
    {
     "data": {
      "image/png": "[encoded data removed]",
      "text/plain": [
       "<Figure size 1800x864 with 4 Axes>"
      ]
     },
     "metadata": {},
     "output_type": "display_data"
    }
   ],
   "source": [
    "plt.subplot( 2, 2, 1 )\n",
    "sns.lineplot( x='date', y='sales', data=df9, label='SALES')\n",
    "sns.lineplot( x='date', y='predictions', data=df9, label='PREDICTIONS')\n",
    "\n",
    "plt.subplot( 2, 2, 2 )\n",
    "sns.lineplot( x='date', y='error_rate', data=df9, label='ERRO RATE')\n",
    "plt.axhline( 1, linestyle='--' ) # Se a variacao for acima do 1, entao eu tenho uma superextimacao,\n",
    "                                 # Se for abaixo do 1, entao significa que as minhas predicoes sao menores que as vendas\n",
    "\n",
    "plt.subplot( 2, 2, 3)\n",
    "sns.distplot( df9['error'], label='ERROR') # Fala da distribuicao do erro, foi pego todos os erros que o modelo gerou.\n",
    "                                           # Distribuicao proxima da Clausiana\n",
    "                                           # Grafico muito usado em analise de residuos \n",
    "plt.subplot( 2, 2, 4)\n",
    "sns.scatterplot( df9['predictions'], df9['error'], label='PREDICTIONS x ERROR' )\n",
    "#  Grafico de analise de residuos, são as prediçõe em relação ao erro\n",
    "#  Que sempre as previsões entre 8000 e 10000 sempre tem os erros maiores\n",
    "#  Quanto maior o valor das previsões maior o erro\n",
    "                                 "
   ]
  },
  {
   "cell_type": "markdown",
   "id": "90a02c67",
   "metadata": {
    "heading_collapsed": true
   },
   "source": [
    "# 10.0. PASSO 10 - Deploy Model to prediction"
   ]
  },
  {
   "cell_type": "markdown",
   "id": "791fab49",
   "metadata": {
    "ExecuteTime": {
     "end_time": "2022-03-01T16:44:57.122389Z",
     "start_time": "2022-03-01T16:44:57.119476Z"
    },
    "heading_collapsed": true,
    "hidden": true
   },
   "source": [
    "## 10.1. Rossmann Class"
   ]
  },
  {
   "cell_type": "code",
   "execution_count": 142,
   "id": "3bead8c9",
   "metadata": {
    "ExecuteTime": {
     "end_time": "2022-03-01T16:28:59.800120Z",
     "start_time": "2022-03-01T16:28:59.719229Z"
    },
    "hidden": true
   },
   "outputs": [],
   "source": [
    "# Save Trained Model\n",
    "pickle.dump( model_xgb_tuned, open( 'model/model_rossmann.pk1', 'wb') )"
   ]
  },
  {
   "cell_type": "code",
   "execution_count": 143,
   "id": "6cbfc15d",
   "metadata": {
    "ExecuteTime": {
     "end_time": "2022-03-01T16:29:13.238982Z",
     "start_time": "2022-03-01T16:29:13.183106Z"
    },
    "hidden": true
   },
   "outputs": [],
   "source": [
    "import math\n",
    "import pickle\n",
    "import inflection\n",
    "import pandas as pd\n",
    "import numpy  as np\n",
    "import datetime\n",
    "\n",
    "\n",
    "class Rossmann( object ):\n",
    "    def __init__( self ):\n",
    "        self.home_path='/home/clever/repos/dsproducao/'\n",
    "        self.competition_distance_scaler   = pickle.load( open( self.home_path + 'parameter/competition_distance_scaler.pk1', 'rb' ) )\n",
    "        self.competition_time_month_scaler = pickle.load( open( self.home_path + 'parameter/competition_time_month_scaler.pk1', 'rb' ) )\n",
    "        self.promo_time_week_scaler        = pickle.load( open( self.home_path + 'parameter/promo_time_week_scaler.pk1', 'rb' ) )\n",
    "        self.year_scaler                   = pickle.load( open( self.home_path + 'parameter/year_scaler.pk1', 'rb') )\n",
    "        self.store_type_scaler             = pickle.load( open( self.home_path + 'parameter/store_type_scaler.pw1', 'rb'))\n",
    "\n",
    "    def data_cleaning( seft, df1 ):    \n",
    "        \n",
    "\n",
    "        cols_old = ['Store',\n",
    "                    'DayOfWeek',\n",
    "                    'Date',\n",
    "                    #'Sales',    Não tem, pois preciso prever esses dados\n",
    "                    #'Customers', Não tem, pois preciso prever esses dados\n",
    "                    'Open',\n",
    "                    'Promo',\n",
    "                    'StateHoliday',\n",
    "                    'SchoolHoliday',\n",
    "                    'StoreType',\n",
    "                    'Assortment',\n",
    "                    'CompetitionDistance',\n",
    "                    'CompetitionOpenSinceMonth',\n",
    "                    'CompetitionOpenSinceYear',\n",
    "                    'Promo2',\n",
    "                    'Promo2SinceWeek',\n",
    "                    'Promo2SinceYear',\n",
    "                    'PromoInterval' ]\n",
    "\n",
    "        snakecase = lambda x: inflection.underscore( x )\n",
    "\n",
    "        cols_new = list( map( snakecase, cols_old ) )\n",
    "\n",
    "        # rename\n",
    "        df1.columns = cols_new\n",
    "\n",
    "        ## 1.3. Data types\n",
    "\n",
    "        df1['date'] = pd.to_datetime( df1['date'] ) # Transformacao do tipo da coluna - No caso 'Date'\n",
    "\n",
    "        ## 1.5. Fillout NA\n",
    "\n",
    "        # Removendo NA usando lambda\n",
    "\n",
    "        # competition_distance\n",
    "        df1[ 'competition_distance' ] = df1[ 'competition_distance' ].apply( lambda x: 200000.0 if math.isnan( x ) else x )\n",
    "        # competition_open_since_month\n",
    "        df1['competition_open_since_month'] = df1.apply( lambda x: x['date'].month if math.isnan( x['competition_open_since_month']) else x['competition_open_since_month'], axis=1 )\n",
    "        # competition_open_since_year\n",
    "        df1['competition_open_since_year'] = df1.apply( lambda x: x['date'].year if math.isnan( x['competition_open_since_year']) else x['competition_open_since_year'], axis=1 )\n",
    "        # promo2_since_week             \n",
    "        df1['promo2_since_week'] = df1.apply( lambda x: x['date'].week if math.isnan( x['promo2_since_week']) else x['promo2_since_week'], axis=1 )\n",
    "        # promo2_since_year         \n",
    "        df1['promo2_since_year'] = df1.apply( lambda x: x['date'].year if math.isnan( x['promo2_since_year']) else x['promo2_since_year'], axis=1 )\n",
    "        # promo_interval\n",
    "\n",
    "\n",
    "        # Criando uma Coluna Mes, e substituindo NA por 0\n",
    "        month_map = {1: 'Jan', 2: 'Feb', 3: 'Mar', 4: 'Apr', 5: 'May', 6: 'Jun', 7: 'Jul', 8: 'Aug', 9: 'Sep', 10: 'Oct', 11: 'Nov', 12: 'Dez'}\n",
    "\n",
    "        df1['promo_interval'].fillna(0, inplace=True ) #Foi substituido NA por 0, nao retornando nenhum valor\n",
    "\n",
    "        df1['month_map'] = df1['date'].dt.month.map( month_map ) #Transforma em data / mes / depois substitui os numeros por letras\n",
    "\n",
    "        df1['is_promo'] = df1[['promo_interval', 'month_map']].apply(lambda x: 0 if x['promo_interval'] == 0 else 1 if x['month_map'] in x['promo_interval'].split(',') else 0, axis=1 )\n",
    "\n",
    "\n",
    "        ## 1.6. Change Types\n",
    "\n",
    "        # Modificando o tipo dos dados por colunas\n",
    "        #Competition\n",
    "        df1['competition_open_since_month'] = df1['competition_open_since_month'].astype(int)\n",
    "        df1['competition_open_since_year' ] = df1['competition_open_since_year' ].astype(int)\n",
    "\n",
    "        # Promo2\n",
    "        df1['promo2_since_week'] = df1['promo2_since_week'].astype(int)\n",
    "        df1['promo2_since_year'] = df1['promo2_since_year'].astype(int)\n",
    "        \n",
    "        return df1\n",
    "\n",
    "\n",
    "    def feature_engineering( self, df2 ):\n",
    "        \n",
    "\n",
    "        #year\n",
    "        df2['year'] = df2['date'].dt.year\n",
    "\n",
    "        # month\n",
    "        df2['month'] = df2['date'].dt.month\n",
    "\n",
    "        # day\n",
    "        df2['day'] = df2['date'].dt.day\n",
    "\n",
    "        # week of year\n",
    "        df2['week_of_year'] = df2['date'].dt.isocalendar().week\n",
    "\n",
    "        # week year\n",
    "        df2['year_week'] = df2['date'].dt.strftime( '%Y-%W' )\n",
    "\n",
    "\n",
    "        # competition since\n",
    "        df2['competition_since'] = df2.apply( lambda x: datetime.datetime( year=x['competition_open_since_year'], month=x['competition_open_since_month'], day=1 ), axis=1 )\n",
    "        df2['competition_time_month'] = ( ( df2['date'] - df2['competition_since'] )/30).apply( lambda x: x.days ).astype(int)\n",
    "\n",
    "        # promo since\n",
    "        df2['promo_since'] = df2['promo2_since_year'].astype( str ) + '-' + df2['promo2_since_week'].astype( str )\n",
    "        df2['promo_since'] = df2['promo_since'].apply( lambda x: datetime.datetime.strptime( x + '-1', '%Y-%W-%w' ) - datetime.timedelta( days=7 ) )\n",
    "        df2['promo_time_week'] = (( df2['date'] - df2['promo_since']) /7).apply( lambda x: x.days ).astype( int )\n",
    "\n",
    "        # assortment\n",
    "        # a = basic, b = extra, c = extended\n",
    "        df2['assortment'] = df2['assortment'].apply( lambda x: 'basic' if x == 'a' else 'extra' if x == 'b' else 'extended')\n",
    "\n",
    "        # state holiday\n",
    "        # a = public_holiday, b = easter_holiday, c = christmas\n",
    "        df2['state_holiday'] = df2['state_holiday'].apply( lambda x: 'public_holiday' if x == 'a' else 'easter_holiday' if x == 'b' else 'christmas' if x == 'c' else 'regular_day')\n",
    "\n",
    "\n",
    "\n",
    "        # 3.0. PASSO 3 - Filtragem de variaveis\n",
    "\n",
    "        ## 3.1. Filtragem das linhas\n",
    "        df2 = df2[df2['open'] != 0 ]\n",
    "\n",
    "        ## 3.2. Selecao das colunas\n",
    "        cols_drop = [ 'open', 'promo_interval', 'month_map']\n",
    "        df2 = df2.drop( cols_drop, axis=1 )\n",
    "        \n",
    "        return df2\n",
    "\n",
    "    def data_preparation( self, df5 ):\n",
    "        \n",
    "        ## 5.2. Rescaling\n",
    "\n",
    "\n",
    "        # competition distance\n",
    "        df5['competition_distance'] = self.competition_distance_scaler.fit_transform( df5[['competition_distance']].values )\n",
    "\n",
    "        # competition time month\n",
    "        df5['competition_time_month'] = self.competition_time_month_scaler.fit_transform( df5[['competition_time_month']].values )\n",
    "        \n",
    "        # promo time week\n",
    "        df5['promo_time_week'] = self.promo_time_week_scaler.fit_transform( df5[['promo_time_week']].values )\n",
    "        \n",
    "        # year\n",
    "        df5['year'] = self.year_scaler.fit_transform( df5[['year_scaler']].values)\n",
    "\n",
    "        ### 5.3.1. Encoding\n",
    "\n",
    "        # state_holiday - type - One HoT Encoding \n",
    "        df5 = pd.get_dummies(df5, prefix=['state_holiday'], columns=['state_holiday'] )\n",
    "\n",
    "        # Store_type - Label_Encoding\n",
    "        df5['store_type'] = self.store_type_scaler.fit_transform( df5['store_type'])\n",
    "        \n",
    "        # assortment - \n",
    "        assortment_dict = {'basic': 1, 'extra': 2, 'extended': 3}\n",
    "        df5['assortment'] = df5['assortment'].map( assortment_dict )\n",
    "      \n",
    "\n",
    "        ### 5.3.2. Nature Transformation\n",
    "\n",
    "        # day of week\n",
    "        df5['day_of_week_sin'] = df5['day_of_week'].apply( lambda x: np.sin( x * ( 2. * np.pi/7 ) ) )\n",
    "        df5['day_of_week_cos'] = df5['day_of_week'].apply( lambda x: np.cos( x * ( 2. * np.pi/7 ) ) )\n",
    "\n",
    "        # month\n",
    "        df5['month_sin'] = df5['month'].apply( lambda x: np.sin( x * ( 2. * np.pi/12 ) ) )\n",
    "        df5['month_cos'] = df5['month'].apply( lambda x: np.cos( x * ( 2. * np.pi/12 ) ) )\n",
    "\n",
    "        # day\n",
    "        df5['day_sin'] = df5['day'].apply( lambda x: np.sin( x * ( 2. * np.pi/30 ) ) )\n",
    "        df5['day_cos'] = df5['day'].apply( lambda x: np.cos( x * ( 2. * np.pi/30 ) ) )\n",
    "\n",
    "        # week of year\n",
    "        df5['week_of_year_sin'] = df5['week_of_year'].apply( lambda x: np.sin( x * ( 2. * np.pi/52 ) ) )\n",
    "        df5['week_of_year_cos'] = df5['week_of_year'].apply( lambda x: np.cos( x * ( 2. * np.pi/52 ) ) )\n",
    "        \n",
    "        cols_selected = [\n",
    "                        'store',\n",
    "                        'promo',\n",
    "                        'store_type',\n",
    "                        'assortment',\n",
    "                        'competition_distance',\n",
    "                        'competition_open_since_month',\n",
    "                        'competition_open_since_year',\n",
    "                        'promo2',\n",
    "                        'promo2_since_week',\n",
    "                        'promo2_since_year',\n",
    "                        'competition_time_month',\n",
    "                        'promo_time_week',\n",
    "                        'day_of_week_sin',\n",
    "                        'day_of_week_cos',\n",
    "                        'month_sin',\n",
    "                        'month_cos',\n",
    "                        'day_sin',\n",
    "                        'day_cos',\n",
    "                        'week_of_year_sin',\n",
    "                        'week_of_year_cos']\n",
    "\n",
    "        return df5[ cols_selected ] \n",
    "    \n",
    "    \n",
    "    def get_prediction( self, model, original_data, test_data ):\n",
    "        # Prediction\n",
    "        pred = model.predict( test_data )\n",
    "        \n",
    "        # join pred into the original data\n",
    "        original_data[ 'prediction' ] = np.expm1( pred )\n",
    "        \n",
    "        return original_data.to_json( orient='records', date_format='iso' )\n",
    "    "
   ]
  },
  {
   "cell_type": "markdown",
   "id": "b5f314f6",
   "metadata": {
    "heading_collapsed": true,
    "hidden": true
   },
   "source": [
    "## 10.2. API Handler"
   ]
  },
  {
   "cell_type": "code",
   "execution_count": 141,
   "id": "2f611553",
   "metadata": {
    "ExecuteTime": {
     "end_time": "2022-03-01T16:26:26.057372Z",
     "start_time": "2022-03-01T16:26:22.867354Z"
    },
    "hidden": true
   },
   "outputs": [
    {
     "ename": "ModuleNotFoundError",
     "evalue": "No module named 'rossmann'",
     "output_type": "error",
     "traceback": [
      "\u001b[0;31m---------------------------------------------------------------------------\u001b[0m",
      "\u001b[0;31mModuleNotFoundError\u001b[0m                       Traceback (most recent call last)",
      "Input \u001b[0;32mIn [141]\u001b[0m, in \u001b[0;36m<module>\u001b[0;34m\u001b[0m\n\u001b[1;32m      2\u001b[0m \u001b[38;5;28;01mimport\u001b[39;00m \u001b[38;5;21;01mpandas\u001b[39;00m \u001b[38;5;28;01mas\u001b[39;00m \u001b[38;5;21;01mpd\u001b[39;00m\n\u001b[1;32m      3\u001b[0m \u001b[38;5;28;01mfrom\u001b[39;00m \u001b[38;5;21;01mflask\u001b[39;00m             \u001b[38;5;28;01mimport\u001b[39;00m Flask, request, Response\n\u001b[0;32m----> 4\u001b[0m \u001b[38;5;28;01mfrom\u001b[39;00m \u001b[38;5;21;01mrossmann\u001b[39;00m\u001b[38;5;21;01m.\u001b[39;00m\u001b[38;5;21;01mRossmann\u001b[39;00m \u001b[38;5;28;01mimport\u001b[39;00m Rossmann\n\u001b[1;32m      6\u001b[0m \u001b[38;5;66;03m# loading model\u001b[39;00m\n\u001b[1;32m      7\u001b[0m model \u001b[38;5;241m=\u001b[39m pickle\u001b[38;5;241m.\u001b[39mload( \u001b[38;5;28mopen\u001b[39m( \u001b[38;5;124m'\u001b[39m\u001b[38;5;124m/model_rossmann.pkl\u001b[39m\u001b[38;5;124m'\u001b[39m, \u001b[38;5;124m'\u001b[39m\u001b[38;5;124mrb\u001b[39m\u001b[38;5;124m'\u001b[39m) )\n",
      "\u001b[0;31mModuleNotFoundError\u001b[0m: No module named 'rossmann'"
     ]
    }
   ],
   "source": [
    "import pickle\n",
    "import pandas as pd\n",
    "from flask             import Flask, request, Response\n",
    "from rossmann.Rossmann import Rossmann\n",
    "\n",
    "# loading model\n",
    "model = pickle.load( open( '/model_rossmann.pkl', 'rb') )\n",
    "\n",
    "# initialize API\n",
    "app = Flask( __name__ )\n",
    "\n",
    "@app.route( '/rossmann/predict', methods=['POST'] )\n",
    "def rossmann_predict():\n",
    "    test_json = request.get_json()\n",
    "   \n",
    "    if test_json: # there is data\n",
    "        if isinstance( test_json, dict ): # unique example\n",
    "            test_raw = pd.DataFrame( test_json, index=[0] )\n",
    "            \n",
    "        else: # multiple example\n",
    "            test_raw = pd.DataFrame( test_json, columns=test_json[0].keys() )\n",
    "            \n",
    "        # Instantiate Rossmann class\n",
    "        pipeline = Rossmann()\n",
    "        \n",
    "        # data cleaning\n",
    "        df1 = pipeline.data_cleaning( test_raw )\n",
    "        \n",
    "        # feature engineering\n",
    "        df2 = pipeline.feature_engineering( df1 )\n",
    "        \n",
    "        # data preparation\n",
    "        df3 = pipeline.data_preparation( df2 )\n",
    "        \n",
    "        # prediction\n",
    "        df_response = pipeline.get_prediction( model, test_raw, df3 )\n",
    "        \n",
    "        return df_response\n",
    "        \n",
    "        \n",
    "    else:\n",
    "        return Reponse( '{}', status=200, mimetype='application/json' )\n",
    "\n",
    "if __name__ == '__main__':\n",
    "    app.run( '0.0.0.0' )"
   ]
  },
  {
   "cell_type": "markdown",
   "id": "15343038",
   "metadata": {
    "hidden": true
   },
   "source": [
    "## 10.3. API Tester"
   ]
  },
  {
   "cell_type": "code",
   "execution_count": 144,
   "id": "ee1d286d",
   "metadata": {
    "ExecuteTime": {
     "end_time": "2022-03-01T16:30:15.966608Z",
     "start_time": "2022-03-01T16:30:14.934433Z"
    },
    "hidden": true
   },
   "outputs": [],
   "source": [
    "import requests"
   ]
  },
  {
   "cell_type": "code",
   "execution_count": 145,
   "id": "93891298",
   "metadata": {
    "ExecuteTime": {
     "end_time": "2022-03-01T16:32:04.439963Z",
     "start_time": "2022-03-01T16:32:03.892920Z"
    },
    "hidden": true
   },
   "outputs": [],
   "source": [
    "df10 = pd.read_csv( 'datasets/test.csv')"
   ]
  },
  {
   "cell_type": "code",
   "execution_count": 154,
   "id": "181bda06",
   "metadata": {
    "ExecuteTime": {
     "end_time": "2022-03-01T17:01:32.148808Z",
     "start_time": "2022-03-01T17:01:30.869414Z"
    },
    "hidden": true
   },
   "outputs": [],
   "source": [
    "# merge test dataset + store\n",
    "df_test = pd.merge( df10, df_store_raw, how='left', on='Store' )\n",
    "\n",
    "# choose store for prediction\n",
    "df_test = df_test[df_test['Store'].isin( [20, 23, 22] )]\n",
    "\n",
    "# remove closed days\n",
    "df_test = df_test[df_test['Open'] != 0]\n",
    "df_test = df_test[~df_test['Open'].isnull()]\n",
    "df_test = df_test.drop( 'Id', axis=1 )"
   ]
  },
  {
   "cell_type": "code",
   "execution_count": 155,
   "id": "f557b286",
   "metadata": {
    "ExecuteTime": {
     "end_time": "2022-03-01T17:01:37.800323Z",
     "start_time": "2022-03-01T17:01:37.264462Z"
    },
    "hidden": true
   },
   "outputs": [],
   "source": [
    "# convert Dataframe to json\n",
    "data = json.dumps( df_test.to_dict( orient='records' ) )"
   ]
  },
  {
   "cell_type": "code",
   "execution_count": 160,
   "id": "d79c747d",
   "metadata": {
    "ExecuteTime": {
     "end_time": "2022-03-01T18:15:14.112436Z",
     "start_time": "2022-03-01T18:15:11.420648Z"
    },
    "hidden": true
   },
   "outputs": [
    {
     "name": "stdout",
     "output_type": "stream",
     "text": [
      "Status Code 200\n"
     ]
    }
   ],
   "source": [
    "# API Call\n",
    "# url = 'http://0.0.0.0:5000/rossmann/predict'\n",
    "url = 'https://ds-prod-rossmann.herokuapp.com/rossmann/predict'\n",
    "header = {'Content-type': 'application/json' } \n",
    "data = data\n",
    "\n",
    "r = requests.post( url, data=data, headers=header )\n",
    "print( 'Status Code {}'.format( r.status_code ) )"
   ]
  },
  {
   "cell_type": "code",
   "execution_count": 161,
   "id": "63c03d3f",
   "metadata": {
    "ExecuteTime": {
     "end_time": "2022-03-01T18:17:19.772975Z",
     "start_time": "2022-03-01T18:17:19.302678Z"
    },
    "hidden": true
   },
   "outputs": [],
   "source": [
    "d1 = pd.DataFrame( r.json(), columns=r.json()[0].keys() )"
   ]
  },
  {
   "cell_type": "code",
   "execution_count": 162,
   "id": "7f106fa7",
   "metadata": {
    "ExecuteTime": {
     "end_time": "2022-03-01T18:17:21.740490Z",
     "start_time": "2022-03-01T18:17:21.411723Z"
    },
    "hidden": true
   },
   "outputs": [
    {
     "name": "stdout",
     "output_type": "stream",
     "text": [
      "Store Number 20 will sell R$295,211.04 in the next 6 weeks\n",
      "Store Number 22 will sell R$273,414.11 in the next 6 weeks\n",
      "Store Number 23 will sell R$217,257.52 in the next 6 weeks\n"
     ]
    }
   ],
   "source": [
    "d2 = d1[['store', 'prediction']].groupby( 'store' ).sum().reset_index()\n",
    "\n",
    "for i in range( len( d2 ) ):\n",
    "    print( 'Store Number {} will sell R${:,.2f} in the next 6 weeks'.format( \n",
    "            d2.loc[i, 'store'], \n",
    "            d2.loc[i, 'prediction'] ) )"
   ]
  },
  {
   "cell_type": "code",
   "execution_count": null,
   "id": "0a69de8c",
   "metadata": {
    "hidden": true
   },
   "outputs": [],
   "source": []
  },
  {
   "cell_type": "code",
   "execution_count": null,
   "id": "0c88a705",
   "metadata": {
    "hidden": true
   },
   "outputs": [],
   "source": []
  }
 ],
 "metadata": {
  "kernelspec": {
   "display_name": "Python 3 (ipykernel)",
   "language": "python",
   "name": "python3"
  },
  "language_info": {
   "codemirror_mode": {
    "name": "ipython",
    "version": 3
   },
   "file_extension": ".py",
   "mimetype": "text/x-python",
   "name": "python",
   "nbconvert_exporter": "python",
   "pygments_lexer": "ipython3",
   "version": "3.9.2"
  }
 },
 "nbformat": 4,
 "nbformat_minor": 5
}
